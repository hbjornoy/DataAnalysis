{
 "cells": [
  {
   "cell_type": "markdown",
   "metadata": {
    "collapsed": true
   },
   "source": [
    "# A million song: Milestone 2\n",
    "\n",
    "## Goals\n",
    "\n",
    "This work aims at conducting a sentiment analysis through music genres. There are many ways to complete this goal, however it is important that the parameters and analysers we use are fitting our data. Sentiment analysis is a very large field, and we believe that we used the librairies and functions that are the most appropriate for the chosen dataset. \n",
    "This work can be divided into 4 parts:\n",
    " 1. Data imports: structures, sorting and wrangling\n",
    " 2. Classifiers: Choosing the methods of analysis and extracting features\n",
    " 3. Visualization: How to meaningfully represent the data\n",
    " 4. Decisions: What can be said from the outputs, and what is left to do\n",
    " \n",
    " \n",
    "##### Dataset credits:\n",
    "musiXmatch dataset, the official lyrics collection for the Million Song Dataset, \n",
    "available at: http://labrosa.ee.columbia.edu/millionsong/musixmatch"
   ]
  },
  {
   "cell_type": "code",
   "execution_count": 3,
   "metadata": {},
   "outputs": [],
   "source": [
    "#Importing libraries\n",
    "%matplotlib inline\n",
    "import numpy as np\n",
    "import pandas as pd\n",
    "import re\n",
    "import nltk\n",
    "import sklearn\n",
    "import matplotlib.pyplot as plt\n",
    "import pandas as pd\n",
    "import seaborn as sns\n",
    "from IPython.display import display, Image\n",
    "from nltk.corpus import stopwords\n",
    "import nltk\n"
   ]
  },
  {
   "cell_type": "markdown",
   "metadata": {},
   "source": [
    "# 1. Data imports: structures, sorting and wrangling\n",
    "- Import the Songs Titles and Artists from MusiXMatch  779052 songs  \n",
    "- Import the Year from million song additional files   498466 songs\n",
    "- Import the Genres from TagTraum  255015 songs    \n",
    "- Import the lyrics & the bag of words 91625 songs\n",
    "\n",
    "\n",
    "## 1.1. Importing the songs\n",
    "For now we only use titles and artist names, we are able to handle this part with only the musixmatch website. We download the data and put it into a dataframe with the Id of MusiXMatch(MXM_Tid) and the Track ID of the Million Song DataSet(Tid). Because we might have data that is given with one classification or the other, we decide to keep the two IDs, but we are fully aware that having two IDs is not giving additional information, it is only to be sure that other datasets will be easier to merge.   \n",
    "We for now, we get 779052 song's artists and titles"
   ]
  },
  {
   "cell_type": "code",
   "execution_count": 4,
   "metadata": {},
   "outputs": [
    {
     "name": "stderr",
     "output_type": "stream",
     "text": [
      "b'Skipping line 60821: expected 1 fields, saw 2\\nSkipping line 126702: expected 1 fields, saw 2\\n'\n",
      "b'Skipping line 580629: expected 1 fields, saw 2\\nSkipping line 632526: expected 1 fields, saw 2\\n'\n"
     ]
    },
    {
     "data": {
      "text/plain": [
       "(779052, 3)"
      ]
     },
     "metadata": {},
     "output_type": "display_data"
    },
    {
     "data": {
      "text/html": [
       "<div>\n",
       "<style>\n",
       "    .dataframe thead tr:only-child th {\n",
       "        text-align: right;\n",
       "    }\n",
       "\n",
       "    .dataframe thead th {\n",
       "        text-align: left;\n",
       "    }\n",
       "\n",
       "    .dataframe tbody tr th {\n",
       "        vertical-align: top;\n",
       "    }\n",
       "</style>\n",
       "<table border=\"1\" class=\"dataframe\">\n",
       "  <thead>\n",
       "    <tr style=\"text-align: right;\">\n",
       "      <th></th>\n",
       "      <th>Artist_Name</th>\n",
       "      <th>Title</th>\n",
       "      <th>MXM_Tid</th>\n",
       "    </tr>\n",
       "    <tr>\n",
       "      <th>Tid</th>\n",
       "      <th></th>\n",
       "      <th></th>\n",
       "      <th></th>\n",
       "    </tr>\n",
       "  </thead>\n",
       "  <tbody>\n",
       "    <tr>\n",
       "      <th>TRMMMKD128F425225D</th>\n",
       "      <td>Karkkiautomaatti</td>\n",
       "      <td>Tanssi vaan</td>\n",
       "      <td>4418550</td>\n",
       "    </tr>\n",
       "    <tr>\n",
       "      <th>TRMMMRX128F93187D9</th>\n",
       "      <td>Hudson Mohawke</td>\n",
       "      <td>No One Could Ever</td>\n",
       "      <td>8898149</td>\n",
       "    </tr>\n",
       "    <tr>\n",
       "      <th>TRMMMCH128F425532C</th>\n",
       "      <td>Yerba Brava</td>\n",
       "      <td>Si Vos Querés</td>\n",
       "      <td>9239868</td>\n",
       "    </tr>\n",
       "    <tr>\n",
       "      <th>TRMMMXN128F42936A5</th>\n",
       "      <td>David Montgomery</td>\n",
       "      <td>Symphony No. 1 G minor \"Sinfonie Serieuse\"/All...</td>\n",
       "      <td>5346741</td>\n",
       "    </tr>\n",
       "    <tr>\n",
       "      <th>TRMMMBB12903CB7D21</th>\n",
       "      <td>Kris Kross</td>\n",
       "      <td>2 Da Beat Ch'yall</td>\n",
       "      <td>2511405</td>\n",
       "    </tr>\n",
       "  </tbody>\n",
       "</table>\n",
       "</div>"
      ],
      "text/plain": [
       "                         Artist_Name  \\\n",
       "Tid                                    \n",
       "TRMMMKD128F425225D  Karkkiautomaatti   \n",
       "TRMMMRX128F93187D9    Hudson Mohawke   \n",
       "TRMMMCH128F425532C       Yerba Brava   \n",
       "TRMMMXN128F42936A5  David Montgomery   \n",
       "TRMMMBB12903CB7D21        Kris Kross   \n",
       "\n",
       "                                                                Title  MXM_Tid  \n",
       "Tid                                                                             \n",
       "TRMMMKD128F425225D                                        Tanssi vaan  4418550  \n",
       "TRMMMRX128F93187D9                                  No One Could Ever  8898149  \n",
       "TRMMMCH128F425532C                                      Si Vos Querés  9239868  \n",
       "TRMMMXN128F42936A5  Symphony No. 1 G minor \"Sinfonie Serieuse\"/All...  5346741  \n",
       "TRMMMBB12903CB7D21                                  2 Da Beat Ch'yall  2511405  "
      ]
     },
     "metadata": {},
     "output_type": "display_data"
    }
   ],
   "source": [
    "#Importing the text file in a DataFrame, removing exceptions (incomplete data)\n",
    "matches = pd.read_table('Data/mxm_779k_matches.txt', error_bad_lines=False)\n",
    "\n",
    "#Changing the column's title in order to be clearer\n",
    "matches.columns = ['Raw']\n",
    "\n",
    "#Getting the Tid\n",
    "matches['Tid'] = matches['Raw'].str.split('<SEP>', expand=True)[0]\n",
    "\n",
    "#Extracting artist names\n",
    "matches['Artist_Name'] = matches['Raw'].str.split('<SEP>', expand=True)[1]\n",
    "\n",
    "#Extracting titles\n",
    "matches['Title'] = matches['Raw'].str.split('<SEP>', expand=True)[2]\n",
    "\n",
    "#Extractign MXM_Tid\n",
    "matches['MXM_Tid'] = matches['Raw'].str.split('<SEP>', expand=True)[3]\n",
    "\n",
    "#Dropping rows we do not need ()\n",
    "matches = matches.drop(matches.index[:17])\n",
    "\n",
    "#Droppign the column with raw data\n",
    "matches = matches.drop('Raw', axis=1)\n",
    "\n",
    "#set index Track ID\n",
    "matches.set_index('Tid',inplace=True)\n",
    "\n",
    "#Displaying results\n",
    "display(matches.shape)\n",
    "display(matches.head())"
   ]
  },
  {
   "cell_type": "markdown",
   "metadata": {},
   "source": [
    "##### Remarks:\n",
    "- There are two distinct identifiers for the same data. Because we might have data that is given with one classification or the other, we decide to keep the two IDs, but we are fully aware that having two IDs is not giving additional information, it is only to be sure that other datasets will be easier to merge.\n",
    "- This is only containing the artist and title, we need further informations such as the genre and the bags of words for each song. \n",
    "\n",
    "## 1.2. Extracting the Year of the songs\n",
    "\n",
    "We download the text file from the \"A million song\" website. It is provided as an additional feature of the dataset.  \n",
    "We merge the year dataset with the artists and song titles in the same dataframe."
   ]
  },
  {
   "cell_type": "code",
   "execution_count": 5,
   "metadata": {},
   "outputs": [
    {
     "name": "stderr",
     "output_type": "stream",
     "text": [
      "b'Skipping line 487582: expected 1 fields, saw 2\\nSkipping line 487590: expected 1 fields, saw 2\\n'\n"
     ]
    }
   ],
   "source": [
    "#Loading the year of publication data, skipping incomplete data in order to avoid errors\n",
    "years = pd.read_table('Data/tracks_per_year.txt', error_bad_lines=False)\n",
    "#Changing the column's title in order to be clearer\n",
    "years.columns = ['Raw']\n",
    "\n",
    "#Getting the year publication\n",
    "years['year'] = years['Raw'].str.split('<SEP>', expand=True)[0]\n",
    "\n",
    "#Getting the Tid\n",
    "years['Tid'] = years['Raw'].str.split('<SEP>', expand=True)[1]\n",
    "\n",
    "#Dropping the raw data\n",
    "years = years.drop('Raw', axis=1)\n",
    "\n",
    "#set index Track ID\n",
    "years.set_index('Tid',inplace=True)\n",
    "\n",
    "#Appending the years to the original DataFrame\n",
    "matches = pd.merge(matches, years, left_index=True, right_index=True)"
   ]
  },
  {
   "cell_type": "code",
   "execution_count": 6,
   "metadata": {},
   "outputs": [
    {
     "name": "stdout",
     "output_type": "stream",
     "text": [
      "(498466, 4)\n"
     ]
    },
    {
     "data": {
      "text/html": [
       "<div>\n",
       "<style>\n",
       "    .dataframe thead tr:only-child th {\n",
       "        text-align: right;\n",
       "    }\n",
       "\n",
       "    .dataframe thead th {\n",
       "        text-align: left;\n",
       "    }\n",
       "\n",
       "    .dataframe tbody tr th {\n",
       "        vertical-align: top;\n",
       "    }\n",
       "</style>\n",
       "<table border=\"1\" class=\"dataframe\">\n",
       "  <thead>\n",
       "    <tr style=\"text-align: right;\">\n",
       "      <th></th>\n",
       "      <th>Artist_Name</th>\n",
       "      <th>Title</th>\n",
       "      <th>MXM_Tid</th>\n",
       "      <th>year</th>\n",
       "    </tr>\n",
       "    <tr>\n",
       "      <th>Tid</th>\n",
       "      <th></th>\n",
       "      <th></th>\n",
       "      <th></th>\n",
       "      <th></th>\n",
       "    </tr>\n",
       "  </thead>\n",
       "  <tbody>\n",
       "    <tr>\n",
       "      <th>TRMMMKD128F425225D</th>\n",
       "      <td>Karkkiautomaatti</td>\n",
       "      <td>Tanssi vaan</td>\n",
       "      <td>4418550</td>\n",
       "      <td>1995</td>\n",
       "    </tr>\n",
       "    <tr>\n",
       "      <th>TRMMMRX128F93187D9</th>\n",
       "      <td>Hudson Mohawke</td>\n",
       "      <td>No One Could Ever</td>\n",
       "      <td>8898149</td>\n",
       "      <td>2006</td>\n",
       "    </tr>\n",
       "    <tr>\n",
       "      <th>TRMMMCH128F425532C</th>\n",
       "      <td>Yerba Brava</td>\n",
       "      <td>Si Vos Querés</td>\n",
       "      <td>9239868</td>\n",
       "      <td>2003</td>\n",
       "    </tr>\n",
       "    <tr>\n",
       "      <th>TRMMMBB12903CB7D21</th>\n",
       "      <td>Kris Kross</td>\n",
       "      <td>2 Da Beat Ch'yall</td>\n",
       "      <td>2511405</td>\n",
       "      <td>1993</td>\n",
       "    </tr>\n",
       "    <tr>\n",
       "      <th>TRMMMNS128F93548E1</th>\n",
       "      <td>3 Gars Su'l Sofa</td>\n",
       "      <td>L'antarctique</td>\n",
       "      <td>7503609</td>\n",
       "      <td>2007</td>\n",
       "    </tr>\n",
       "  </tbody>\n",
       "</table>\n",
       "</div>"
      ],
      "text/plain": [
       "                         Artist_Name              Title  MXM_Tid  year\n",
       "Tid                                                                   \n",
       "TRMMMKD128F425225D  Karkkiautomaatti        Tanssi vaan  4418550  1995\n",
       "TRMMMRX128F93187D9    Hudson Mohawke  No One Could Ever  8898149  2006\n",
       "TRMMMCH128F425532C       Yerba Brava      Si Vos Querés  9239868  2003\n",
       "TRMMMBB12903CB7D21        Kris Kross  2 Da Beat Ch'yall  2511405  1993\n",
       "TRMMMNS128F93548E1  3 Gars Su'l Sofa      L'antarctique  7503609  2007"
      ]
     },
     "metadata": {},
     "output_type": "display_data"
    }
   ],
   "source": [
    "#display the results\n",
    "print(matches.shape)\n",
    "display(matches.head())"
   ]
  },
  {
   "cell_type": "markdown",
   "metadata": {},
   "source": [
    "#### Remarks:  \n",
    "We delete the rows without year infos. Thus why the dataframe contains less songs. In order to be able to be as complete as accurate as possible, we consider only full matching.\n",
    "\n",
    "## 1.3 Importing genres\n",
    "We will now append each genre to a specific track.  \n",
    "We download the data from the TagTraum dataset and merge them without our previous dataframe."
   ]
  },
  {
   "cell_type": "code",
   "execution_count": 7,
   "metadata": {},
   "outputs": [],
   "source": [
    "#Creating a DataFrame to store the genres:\n",
    "GenreFrame = pd.read_table('Data/msd-topMAGD-genreAssignment.txt', names=['Tid', 'genre'])\n",
    "\n",
    "#set index Track ID\n",
    "GenreFrame.set_index('Tid',inplace=True)\n",
    "\n",
    "#merge the new datas with the previous dataframe\n",
    "matches = pd.merge(GenreFrame, matches, left_index=True, right_index=True)"
   ]
  },
  {
   "cell_type": "code",
   "execution_count": 8,
   "metadata": {},
   "outputs": [
    {
     "name": "stdout",
     "output_type": "stream",
     "text": [
      "(255015, 5)\n"
     ]
    },
    {
     "data": {
      "text/html": [
       "<div>\n",
       "<style>\n",
       "    .dataframe thead tr:only-child th {\n",
       "        text-align: right;\n",
       "    }\n",
       "\n",
       "    .dataframe thead th {\n",
       "        text-align: left;\n",
       "    }\n",
       "\n",
       "    .dataframe tbody tr th {\n",
       "        vertical-align: top;\n",
       "    }\n",
       "</style>\n",
       "<table border=\"1\" class=\"dataframe\">\n",
       "  <thead>\n",
       "    <tr style=\"text-align: right;\">\n",
       "      <th></th>\n",
       "      <th>genre</th>\n",
       "      <th>Artist_Name</th>\n",
       "      <th>Title</th>\n",
       "      <th>MXM_Tid</th>\n",
       "      <th>year</th>\n",
       "    </tr>\n",
       "    <tr>\n",
       "      <th>Tid</th>\n",
       "      <th></th>\n",
       "      <th></th>\n",
       "      <th></th>\n",
       "      <th></th>\n",
       "      <th></th>\n",
       "    </tr>\n",
       "  </thead>\n",
       "  <tbody>\n",
       "    <tr>\n",
       "      <th>TRAAAAK128F9318786</th>\n",
       "      <td>Pop_Rock</td>\n",
       "      <td>Adelitas Way</td>\n",
       "      <td>Scream</td>\n",
       "      <td>8692587</td>\n",
       "      <td>2009</td>\n",
       "    </tr>\n",
       "    <tr>\n",
       "      <th>TRAAAAV128F421A322</th>\n",
       "      <td>Pop_Rock</td>\n",
       "      <td>Western Addiction</td>\n",
       "      <td>A Poor Recipe For Civic Cohesion</td>\n",
       "      <td>4623710</td>\n",
       "      <td>2005</td>\n",
       "    </tr>\n",
       "    <tr>\n",
       "      <th>TRAAABD128F429CF47</th>\n",
       "      <td>Pop_Rock</td>\n",
       "      <td>The Box Tops</td>\n",
       "      <td>Soul Deep</td>\n",
       "      <td>6477168</td>\n",
       "      <td>1969</td>\n",
       "    </tr>\n",
       "    <tr>\n",
       "      <th>TRAAAEF128F4273421</th>\n",
       "      <td>Pop_Rock</td>\n",
       "      <td>Adam Ant</td>\n",
       "      <td>Something Girls</td>\n",
       "      <td>3759847</td>\n",
       "      <td>1982</td>\n",
       "    </tr>\n",
       "    <tr>\n",
       "      <th>TRAAAEM128F93347B9</th>\n",
       "      <td>Electronic</td>\n",
       "      <td>Son Kite</td>\n",
       "      <td>Game &amp; Watch</td>\n",
       "      <td>2626706</td>\n",
       "      <td>2004</td>\n",
       "    </tr>\n",
       "  </tbody>\n",
       "</table>\n",
       "</div>"
      ],
      "text/plain": [
       "                         genre        Artist_Name  \\\n",
       "Tid                                                 \n",
       "TRAAAAK128F9318786    Pop_Rock       Adelitas Way   \n",
       "TRAAAAV128F421A322    Pop_Rock  Western Addiction   \n",
       "TRAAABD128F429CF47    Pop_Rock       The Box Tops   \n",
       "TRAAAEF128F4273421    Pop_Rock           Adam Ant   \n",
       "TRAAAEM128F93347B9  Electronic           Son Kite   \n",
       "\n",
       "                                               Title  MXM_Tid  year  \n",
       "Tid                                                                  \n",
       "TRAAAAK128F9318786                            Scream  8692587  2009  \n",
       "TRAAAAV128F421A322  A Poor Recipe For Civic Cohesion  4623710  2005  \n",
       "TRAAABD128F429CF47                         Soul Deep  6477168  1969  \n",
       "TRAAAEF128F4273421                   Something Girls  3759847  1982  \n",
       "TRAAAEM128F93347B9                      Game & Watch  2626706  2004  "
      ]
     },
     "metadata": {},
     "output_type": "display_data"
    }
   ],
   "source": [
    "#Displaying results\n",
    "print(matches.shape)\n",
    "display(matches.head())"
   ]
  },
  {
   "cell_type": "markdown",
   "metadata": {},
   "source": [
    "##### Comment:\n",
    "The dataframe contains once again less songs. We proceed this way for the same reason as mentioned in the part before.\n",
    "\n",
    "## 1.4. Importing Location\n",
    "\n",
    "We download the file with the location of every artist from the additional files"
   ]
  },
  {
   "cell_type": "code",
   "execution_count": 9,
   "metadata": {},
   "outputs": [
    {
     "name": "stderr",
     "output_type": "stream",
     "text": [
      "C:\\Users\\santiago\\Anaconda3\\lib\\site-packages\\ipykernel\\__main__.py:2: ParserWarning: Falling back to the 'python' engine because the 'c' engine does not support regex separators (separators > 1 char and different from '\\s+' are interpreted as regex); you can avoid this warning by specifying engine='python'.\n",
      "  from ipykernel import kernelapp as app\n"
     ]
    }
   ],
   "source": [
    "#Creating a DataFrame to store the location:\n",
    "location = pd.read_csv('Data/artist_location.txt', sep=\"<SEP>\",header=None,names=['ArtistID','Latitude','Longitude','Artist_Name','City'])\n",
    "#Keep useful datas\n",
    "location.drop(['ArtistID','City'],inplace=True,axis=1)\n",
    " \n",
    "#matches = pd.merge(location, matches, on='Tid')\n",
    "matches.reset_index(inplace=True)\n",
    "matches = pd.merge(location, matches, on='Artist_Name')\n",
    "matches.set_index('Tid',inplace = True)"
   ]
  },
  {
   "cell_type": "code",
   "execution_count": 10,
   "metadata": {},
   "outputs": [
    {
     "data": {
      "text/html": [
       "<div>\n",
       "<style>\n",
       "    .dataframe thead tr:only-child th {\n",
       "        text-align: right;\n",
       "    }\n",
       "\n",
       "    .dataframe thead th {\n",
       "        text-align: left;\n",
       "    }\n",
       "\n",
       "    .dataframe tbody tr th {\n",
       "        vertical-align: top;\n",
       "    }\n",
       "</style>\n",
       "<table border=\"1\" class=\"dataframe\">\n",
       "  <thead>\n",
       "    <tr style=\"text-align: right;\">\n",
       "      <th></th>\n",
       "      <th>Latitude</th>\n",
       "      <th>Longitude</th>\n",
       "      <th>Artist_Name</th>\n",
       "      <th>genre</th>\n",
       "      <th>Title</th>\n",
       "      <th>MXM_Tid</th>\n",
       "      <th>year</th>\n",
       "    </tr>\n",
       "    <tr>\n",
       "      <th>Tid</th>\n",
       "      <th></th>\n",
       "      <th></th>\n",
       "      <th></th>\n",
       "      <th></th>\n",
       "      <th></th>\n",
       "      <th></th>\n",
       "      <th></th>\n",
       "    </tr>\n",
       "  </thead>\n",
       "  <tbody>\n",
       "    <tr>\n",
       "      <th>TRBAWHU128EF3563C5</th>\n",
       "      <td>51.59678</td>\n",
       "      <td>-0.33556</td>\n",
       "      <td>Screaming Lord Sutch</td>\n",
       "      <td>Pop_Rock</td>\n",
       "      <td>Murder In The Graveyard</td>\n",
       "      <td>7883403</td>\n",
       "      <td>1982</td>\n",
       "    </tr>\n",
       "    <tr>\n",
       "      <th>TREPTTY128EF3563C1</th>\n",
       "      <td>51.59678</td>\n",
       "      <td>-0.33556</td>\n",
       "      <td>Screaming Lord Sutch</td>\n",
       "      <td>Pop_Rock</td>\n",
       "      <td>Penny Penny</td>\n",
       "      <td>2546441</td>\n",
       "      <td>1982</td>\n",
       "    </tr>\n",
       "    <tr>\n",
       "      <th>TRJSKEX128EF3563C7</th>\n",
       "      <td>51.59678</td>\n",
       "      <td>-0.33556</td>\n",
       "      <td>Screaming Lord Sutch</td>\n",
       "      <td>Pop_Rock</td>\n",
       "      <td>London Rocker</td>\n",
       "      <td>2546440</td>\n",
       "      <td>1982</td>\n",
       "    </tr>\n",
       "    <tr>\n",
       "      <th>TRKCPUR128F92CF37D</th>\n",
       "      <td>51.59678</td>\n",
       "      <td>-0.33556</td>\n",
       "      <td>Screaming Lord Sutch</td>\n",
       "      <td>Pop_Rock</td>\n",
       "      <td>Jack The Ripper</td>\n",
       "      <td>4439345</td>\n",
       "      <td>1982</td>\n",
       "    </tr>\n",
       "    <tr>\n",
       "      <th>TRKYESP128EF3563C0</th>\n",
       "      <td>51.59678</td>\n",
       "      <td>-0.33556</td>\n",
       "      <td>Screaming Lord Sutch</td>\n",
       "      <td>Pop_Rock</td>\n",
       "      <td>Monster Rock</td>\n",
       "      <td>2546437</td>\n",
       "      <td>1982</td>\n",
       "    </tr>\n",
       "  </tbody>\n",
       "</table>\n",
       "</div>"
      ],
      "text/plain": [
       "                    Latitude  Longitude           Artist_Name     genre  \\\n",
       "Tid                                                                       \n",
       "TRBAWHU128EF3563C5  51.59678   -0.33556  Screaming Lord Sutch  Pop_Rock   \n",
       "TREPTTY128EF3563C1  51.59678   -0.33556  Screaming Lord Sutch  Pop_Rock   \n",
       "TRJSKEX128EF3563C7  51.59678   -0.33556  Screaming Lord Sutch  Pop_Rock   \n",
       "TRKCPUR128F92CF37D  51.59678   -0.33556  Screaming Lord Sutch  Pop_Rock   \n",
       "TRKYESP128EF3563C0  51.59678   -0.33556  Screaming Lord Sutch  Pop_Rock   \n",
       "\n",
       "                                      Title  MXM_Tid  year  \n",
       "Tid                                                         \n",
       "TRBAWHU128EF3563C5  Murder In The Graveyard  7883403  1982  \n",
       "TREPTTY128EF3563C1              Penny Penny  2546441  1982  \n",
       "TRJSKEX128EF3563C7            London Rocker  2546440  1982  \n",
       "TRKCPUR128F92CF37D          Jack The Ripper  4439345  1982  \n",
       "TRKYESP128EF3563C0             Monster Rock  2546437  1982  "
      ]
     },
     "metadata": {},
     "output_type": "display_data"
    },
    {
     "name": "stdout",
     "output_type": "stream",
     "text": [
      "(103401, 7)\n"
     ]
    }
   ],
   "source": [
    "#Displaying results\n",
    "display(matches.head())\n",
    "print(matches.shape)"
   ]
  },
  {
   "cell_type": "markdown",
   "metadata": {},
   "source": [
    "## 1.5. Bags of words, extracting them from the train dataset\n",
    "\n",
    "We downloaded the train datafile which is 30% of the whole dataset.\n",
    "Inside we have a list of the 5000 words the most used in the ... songs.\n",
    "We then make two dataframes: \n",
    "- One with the Id of every songs and their lyrics. We merge this with our previous dataframe.\n",
    "     \n",
    "     The lyrics are presented as follow : [(id of word),(occurence in song)][2,24][5,47]...  \n",
    "\n",
    "\n",
    "- Another one with the 5000 top words of the songs (Bag of Words)           \n",
    "            \n",
    "  \n",
    "We work with only 30% of the whole dataset because we use the MusicXMatch dataset and it is the only data that are available.  \n",
    "The rest of the data are not free. You could see that page : https://developer.musixmatch.com/plans to verify.\n",
    "\n"
   ]
  },
  {
   "cell_type": "code",
   "execution_count": 11,
   "metadata": {},
   "outputs": [],
   "source": [
    "#import file\n",
    "lyrics = pd.read_table('Data/mxm_dataset_train.txt', error_bad_lines=False)\n",
    "\n",
    "#change name of the column\n",
    "lyrics.columns = ['Raw_Training']\n",
    "\n",
    "# take the bag of word to use it later\n",
    "words_train = lyrics.iloc[16]\n",
    "\n",
    "#drop useless rows\n",
    "lyrics=lyrics[17:].copy()\n",
    "\n",
    "# get TrackID, MxMID and lyrics and put them separated columns\n",
    "def sortdata(x):\n",
    "    splitted = x['Raw_Training'].split(',')\n",
    "    x['Tid']=splitted[0]\n",
    "    #x['MXM_Tid']=splitted[1]\n",
    "    x['words_freq']=splitted[2:]\n",
    "    return x\n",
    "\n",
    "#Apply the function to every column\n",
    "lyrics = lyrics.apply(sortdata,axis=1)\n",
    "lyrics = lyrics[['Tid','words_freq']]"
   ]
  },
  {
   "cell_type": "code",
   "execution_count": 12,
   "metadata": {},
   "outputs": [],
   "source": [
    "#set index Track ID\n",
    "lyrics.set_index('Tid',inplace=True)\n",
    "\n",
    "#Appending the years to the original DataFrame\n",
    "matches = pd.merge(matches, lyrics, left_index=True, right_index=True)"
   ]
  },
  {
   "cell_type": "code",
   "execution_count": 13,
   "metadata": {},
   "outputs": [
    {
     "name": "stdout",
     "output_type": "stream",
     "text": [
      "(38513, 8)\n"
     ]
    },
    {
     "data": {
      "text/html": [
       "<div>\n",
       "<style>\n",
       "    .dataframe thead tr:only-child th {\n",
       "        text-align: right;\n",
       "    }\n",
       "\n",
       "    .dataframe thead th {\n",
       "        text-align: left;\n",
       "    }\n",
       "\n",
       "    .dataframe tbody tr th {\n",
       "        vertical-align: top;\n",
       "    }\n",
       "</style>\n",
       "<table border=\"1\" class=\"dataframe\">\n",
       "  <thead>\n",
       "    <tr style=\"text-align: right;\">\n",
       "      <th></th>\n",
       "      <th>Latitude</th>\n",
       "      <th>Longitude</th>\n",
       "      <th>Artist_Name</th>\n",
       "      <th>genre</th>\n",
       "      <th>Title</th>\n",
       "      <th>MXM_Tid</th>\n",
       "      <th>year</th>\n",
       "      <th>words_freq</th>\n",
       "    </tr>\n",
       "    <tr>\n",
       "      <th>Tid</th>\n",
       "      <th></th>\n",
       "      <th></th>\n",
       "      <th></th>\n",
       "      <th></th>\n",
       "      <th></th>\n",
       "      <th></th>\n",
       "      <th></th>\n",
       "      <th></th>\n",
       "    </tr>\n",
       "  </thead>\n",
       "  <tbody>\n",
       "    <tr>\n",
       "      <th>TRAAAAV128F421A322</th>\n",
       "      <td>37.77916</td>\n",
       "      <td>-122.42005</td>\n",
       "      <td>Western Addiction</td>\n",
       "      <td>Pop_Rock</td>\n",
       "      <td>A Poor Recipe For Civic Cohesion</td>\n",
       "      <td>4623710</td>\n",
       "      <td>2005</td>\n",
       "      <td>[1:6, 2:4, 3:2, 4:2, 5:5, 6:3, 7:1, 8:1, 11:1,...</td>\n",
       "    </tr>\n",
       "    <tr>\n",
       "      <th>TRAAABD128F429CF47</th>\n",
       "      <td>35.14968</td>\n",
       "      <td>-90.04892</td>\n",
       "      <td>The Box Tops</td>\n",
       "      <td>Pop_Rock</td>\n",
       "      <td>Soul Deep</td>\n",
       "      <td>6477168</td>\n",
       "      <td>1969</td>\n",
       "      <td>[1:10, 3:17, 4:8, 5:2, 6:2, 7:1, 8:3, 9:2, 10:...</td>\n",
       "    </tr>\n",
       "    <tr>\n",
       "      <th>TRAAAEF128F4273421</th>\n",
       "      <td>35.83073</td>\n",
       "      <td>-85.97874</td>\n",
       "      <td>Adam Ant</td>\n",
       "      <td>Pop_Rock</td>\n",
       "      <td>Something Girls</td>\n",
       "      <td>3759847</td>\n",
       "      <td>1982</td>\n",
       "      <td>[1:5, 2:4, 3:3, 4:2, 5:1, 6:11, 9:4, 12:9, 13:...</td>\n",
       "    </tr>\n",
       "    <tr>\n",
       "      <th>TRAAAHJ128F931194C</th>\n",
       "      <td>39.74001</td>\n",
       "      <td>-104.99226</td>\n",
       "      <td>Devotchka</td>\n",
       "      <td>Pop_Rock</td>\n",
       "      <td>The Last Beat Of My Heart (b-side)</td>\n",
       "      <td>5133845</td>\n",
       "      <td>2004</td>\n",
       "      <td>[1:4, 2:11, 3:2, 4:7, 5:3, 6:5, 8:1, 9:3, 10:6...</td>\n",
       "    </tr>\n",
       "    <tr>\n",
       "      <th>TRAABIG128F9356C56</th>\n",
       "      <td>40.71455</td>\n",
       "      <td>-74.00712</td>\n",
       "      <td>Poe</td>\n",
       "      <td>Pop_Rock</td>\n",
       "      <td>Walk the Walk</td>\n",
       "      <td>678806</td>\n",
       "      <td>2000</td>\n",
       "      <td>[1:28, 2:77, 3:31, 4:41, 5:5, 6:13, 8:17, 9:5,...</td>\n",
       "    </tr>\n",
       "  </tbody>\n",
       "</table>\n",
       "</div>"
      ],
      "text/plain": [
       "                    Latitude  Longitude        Artist_Name     genre  \\\n",
       "Tid                                                                    \n",
       "TRAAAAV128F421A322  37.77916 -122.42005  Western Addiction  Pop_Rock   \n",
       "TRAAABD128F429CF47  35.14968  -90.04892       The Box Tops  Pop_Rock   \n",
       "TRAAAEF128F4273421  35.83073  -85.97874           Adam Ant  Pop_Rock   \n",
       "TRAAAHJ128F931194C  39.74001 -104.99226          Devotchka  Pop_Rock   \n",
       "TRAABIG128F9356C56  40.71455  -74.00712                Poe  Pop_Rock   \n",
       "\n",
       "                                                 Title  MXM_Tid  year  \\\n",
       "Tid                                                                     \n",
       "TRAAAAV128F421A322    A Poor Recipe For Civic Cohesion  4623710  2005   \n",
       "TRAAABD128F429CF47                           Soul Deep  6477168  1969   \n",
       "TRAAAEF128F4273421                     Something Girls  3759847  1982   \n",
       "TRAAAHJ128F931194C  The Last Beat Of My Heart (b-side)  5133845  2004   \n",
       "TRAABIG128F9356C56                       Walk the Walk   678806  2000   \n",
       "\n",
       "                                                           words_freq  \n",
       "Tid                                                                    \n",
       "TRAAAAV128F421A322  [1:6, 2:4, 3:2, 4:2, 5:5, 6:3, 7:1, 8:1, 11:1,...  \n",
       "TRAAABD128F429CF47  [1:10, 3:17, 4:8, 5:2, 6:2, 7:1, 8:3, 9:2, 10:...  \n",
       "TRAAAEF128F4273421  [1:5, 2:4, 3:3, 4:2, 5:1, 6:11, 9:4, 12:9, 13:...  \n",
       "TRAAAHJ128F931194C  [1:4, 2:11, 3:2, 4:7, 5:3, 6:5, 8:1, 9:3, 10:6...  \n",
       "TRAABIG128F9356C56  [1:28, 2:77, 3:31, 4:41, 5:5, 6:13, 8:17, 9:5,...  "
      ]
     },
     "metadata": {},
     "output_type": "display_data"
    }
   ],
   "source": [
    "#Displaying the results\n",
    "print(matches.shape)\n",
    "display(matches.head())"
   ]
  },
  {
   "cell_type": "markdown",
   "metadata": {},
   "source": [
    "##### Comments on the size:\n",
    "Due to the fact that we do not have access to the entire dataset, our analysis is limited to the 30% that is freely available on MusixMatch."
   ]
  },
  {
   "cell_type": "markdown",
   "metadata": {},
   "source": [
    "## 1.6. From generic bags of words to lyrics\n",
    "\n",
    "\n",
    "We Create a function that take the list of the word and the occurency in one song : [(id of word),(occurency in the song)][2,24][5,47]...  \n",
    "And output all the corresponding words in a list  \n",
    "\n",
    "For example : [1:2,2:5,3:3] gives us --> [i,i,the,the,the,the,the,you,you,you]"
   ]
  },
  {
   "cell_type": "code",
   "execution_count": 14,
   "metadata": {},
   "outputs": [
    {
     "data": {
      "text/plain": [
       "Raw_Training    [i, the, you, to, and, a, me, it, not, in, my,...\n",
       "Name: 16, dtype: object"
      ]
     },
     "metadata": {},
     "output_type": "display_data"
    }
   ],
   "source": [
    "#get the datas\n",
    "bag_of_words = words_train\n",
    "# clean the data and split it to create a list of 5000 words\n",
    "bag_of_words = bag_of_words.str.replace('%','')\n",
    "bag_of_words = bag_of_words.str.split(',')\n",
    "\n",
    "display(bag_of_words.head())"
   ]
  },
  {
   "cell_type": "code",
   "execution_count": 15,
   "metadata": {},
   "outputs": [],
   "source": [
    "#Defining a function\n",
    "def create_text(words_freq):\n",
    "    #create the final list of all words\n",
    "    list_words=''\n",
    "    #iterate over every id of words\n",
    "    for compteur in words_freq:\n",
    "        \n",
    "        word = bag_of_words[0][int(compteur.split(':')[0])-1]\n",
    "        times = int(compteur.split(':')[1])\n",
    "        \n",
    "        #Separating every word with a space to be able to work on it with librairies during part 2\n",
    "        for i in range(times):\n",
    "            list_words += ' ' + word + ' '\n",
    "    return list_words "
   ]
  },
  {
   "cell_type": "code",
   "execution_count": 16,
   "metadata": {},
   "outputs": [
    {
     "name": "stdout",
     "output_type": "stream",
     "text": [
      " i  i  i  i  i  i  the  the  the  the  you  you  to  to  and  and  and  and  and  a  a  a  me  it  my  is  is  of  of  of  your  that  are  are  we  we  am  am  will  will  for  for  for  for  be  have  have  so  this  like  like  de  up  was  was  if  got  would  been  these  these  seem  someon  understand  pass  river  met  piec  damn  worth  flesh  grace  poor  poor  somehow  ignor  passion  tide  season  seed  resist  order  order  piti  fashion  grant  captur  captur  ici  soil  patienc  social  social  highest  highest  slice  leaf  lifeless  arrang  wilder  shark  devast  element \n"
     ]
    }
   ],
   "source": [
    "#Testing the function\n",
    "print(create_text(lyrics.iloc[0]['words_freq']))"
   ]
  },
  {
   "cell_type": "markdown",
   "metadata": {},
   "source": [
    "##### Comments on part one:\n",
    "\n",
    "As it is noticeable through each step, we loose data every time we merge datasets. We chose this approach because we only want to deal with complete information in order to be coherent. We want to compare parameters between items and we believe that the analysis is less relevant if we consider a larger dataset that contains data incomplete data.\n",
    "\n",
    "We now have 103 401 songs, but for each one we have all the features that we want to use. We will analyse our data with different parameters, thus why it is important that it each song provides each item.\n",
    "\n",
    "\n",
    "# 2. Classifiers: Choosing the methods of analysis and extracting features\n",
    "In order to analyse songs, we will use sentiment analysis on the lyrics. We chose to use 2 key features, which are the polarity and the lexical complexity. Because we only use bags of words, some parameters such as rhymes and structures are not defined with bags of words and they should be taken in consideration when speaking of the whole complexity of lyrics."
   ]
  },
  {
   "cell_type": "markdown",
   "metadata": {},
   "source": [
    "## 2.1. Word polarity\n",
    "##### Vader package\n",
    "VADER, which stands for Valence Aware Dictionary and sEntiment Reasoner, is a sentiment analysis package that provides a polarity score for a given word or sentences. It is known to be a very powerful tool, especially because it was trained on tweets, meaning that it takes into account most of modern vocabulary. This is especially relevant for our project because we deal with modern music, implying that the words that are used are as modern as the ones analysed by VADER on tweets. The fact that the sentiment analyser takes its roots from the same vocabulary is make the analysis more relevant.\n",
    "\n",
    "\n",
    "Polarity is expressed between -1 (negative polarity) and 1 (positive polarity).\n"
   ]
  },
  {
   "cell_type": "code",
   "execution_count": 17,
   "metadata": {},
   "outputs": [
    {
     "name": "stderr",
     "output_type": "stream",
     "text": [
      "C:\\Users\\santiago\\Anaconda3\\lib\\site-packages\\nltk\\twitter\\__init__.py:20: UserWarning: The twython library has not been installed. Some functionality from the twitter package will not be available.\n",
      "  warnings.warn(\"The twython library has not been installed. \"\n"
     ]
    }
   ],
   "source": [
    "import nltk.sentiment.sentiment_analyzer\n",
    "from vaderSentiment.vaderSentiment import SentimentIntensityAnalyzer"
   ]
  },
  {
   "cell_type": "code",
   "execution_count": 18,
   "metadata": {},
   "outputs": [],
   "source": [
    "#Defining the analyser\n",
    "analyser = SentimentIntensityAnalyzer()"
   ]
  },
  {
   "cell_type": "markdown",
   "metadata": {},
   "source": [
    "## 2.2. Lyrics' complexity\n",
    "Because we want to be able to know what type of audience a specific type of music is targeting we need to analyse the complexity of the lyrics. We are aware that dividing an audience into social profiles is far beyond the scope of our analysis. We do not have enough sociological knowledge to categorize an audience in a precise way. This is the reason why we will use large indicators. We want to know how complex a set of word is, and the only social assumption we will make is that complexity is correlated with the age and the educational level of the audience. \n",
    "\n",
    "We use the occurence of each word in the whole dataset.\n",
    "\n",
    "#####  Extracting the vocabulary  \n",
    "Importing the most used words and their count inside the dataset in order to start a text processing analysis.\n",
    "##### Extracting additional features\n",
    "From the dataset, there was some given metadata. The total word count is 55 163 335.\n",
    "\n",
    "Because of the long tail effect of language, we will proceed with the first 10 000 words of the list. This will enable us to have less computing time when iterating on the full_word_list.\n",
    "\n",
    "From the vocabulary we remove stopwords. Those are too often mentionned in every level of language to be relevant for this analysis.\n",
    "\n",
    "We then compute the percentage of occurence, because it will help us when dealing with lyrics' complexity.\n",
    "We then use the occurence precentage to get a Complexity weight. It means that when a word is used a lot it will have a low weight and a high weight for words rarely used."
   ]
  },
  {
   "cell_type": "code",
   "execution_count": 19,
   "metadata": {},
   "outputs": [
    {
     "data": {
      "text/html": [
       "<div>\n",
       "<style>\n",
       "    .dataframe thead tr:only-child th {\n",
       "        text-align: right;\n",
       "    }\n",
       "\n",
       "    .dataframe thead th {\n",
       "        text-align: left;\n",
       "    }\n",
       "\n",
       "    .dataframe tbody tr th {\n",
       "        vertical-align: top;\n",
       "    }\n",
       "</style>\n",
       "<table border=\"1\" class=\"dataframe\">\n",
       "  <thead>\n",
       "    <tr style=\"text-align: right;\">\n",
       "      <th></th>\n",
       "      <th>Word</th>\n",
       "      <th>Count</th>\n",
       "      <th>Occurence_percentage</th>\n",
       "      <th>Weight</th>\n",
       "    </tr>\n",
       "  </thead>\n",
       "  <tbody>\n",
       "    <tr>\n",
       "      <th>31</th>\n",
       "      <td>love</td>\n",
       "      <td>298043.0</td>\n",
       "      <td>0.540292</td>\n",
       "      <td>1.850852</td>\n",
       "    </tr>\n",
       "    <tr>\n",
       "      <th>34</th>\n",
       "      <td>know</td>\n",
       "      <td>273137.0</td>\n",
       "      <td>0.495142</td>\n",
       "      <td>2.019621</td>\n",
       "    </tr>\n",
       "    <tr>\n",
       "      <th>39</th>\n",
       "      <td>like</td>\n",
       "      <td>227624.0</td>\n",
       "      <td>0.412636</td>\n",
       "      <td>2.423441</td>\n",
       "    </tr>\n",
       "    <tr>\n",
       "      <th>44</th>\n",
       "      <td>get</td>\n",
       "      <td>192961.0</td>\n",
       "      <td>0.349799</td>\n",
       "      <td>2.858782</td>\n",
       "    </tr>\n",
       "    <tr>\n",
       "      <th>46</th>\n",
       "      <td>go</td>\n",
       "      <td>182812.0</td>\n",
       "      <td>0.331401</td>\n",
       "      <td>3.017490</td>\n",
       "    </tr>\n",
       "    <tr>\n",
       "      <th>47</th>\n",
       "      <td>time</td>\n",
       "      <td>181248.0</td>\n",
       "      <td>0.328566</td>\n",
       "      <td>3.043528</td>\n",
       "    </tr>\n",
       "    <tr>\n",
       "      <th>48</th>\n",
       "      <td>come</td>\n",
       "      <td>180061.0</td>\n",
       "      <td>0.326414</td>\n",
       "      <td>3.063592</td>\n",
       "    </tr>\n",
       "    <tr>\n",
       "      <th>49</th>\n",
       "      <td>oh</td>\n",
       "      <td>178751.0</td>\n",
       "      <td>0.324040</td>\n",
       "      <td>3.086043</td>\n",
       "    </tr>\n",
       "    <tr>\n",
       "      <th>52</th>\n",
       "      <td>got</td>\n",
       "      <td>170641.0</td>\n",
       "      <td>0.309338</td>\n",
       "      <td>3.232713</td>\n",
       "    </tr>\n",
       "    <tr>\n",
       "      <th>55</th>\n",
       "      <td>one</td>\n",
       "      <td>164380.0</td>\n",
       "      <td>0.297988</td>\n",
       "      <td>3.355842</td>\n",
       "    </tr>\n",
       "  </tbody>\n",
       "</table>\n",
       "</div>"
      ],
      "text/plain": [
       "    Word     Count  Occurence_percentage    Weight\n",
       "31  love  298043.0              0.540292  1.850852\n",
       "34  know  273137.0              0.495142  2.019621\n",
       "39  like  227624.0              0.412636  2.423441\n",
       "44   get  192961.0              0.349799  2.858782\n",
       "46    go  182812.0              0.331401  3.017490\n",
       "47  time  181248.0              0.328566  3.043528\n",
       "48  come  180061.0              0.326414  3.063592\n",
       "49    oh  178751.0              0.324040  3.086043\n",
       "52   got  170641.0              0.309338  3.232713\n",
       "55   one  164380.0              0.297988  3.355842"
      ]
     },
     "metadata": {},
     "output_type": "display_data"
    }
   ],
   "source": [
    "Word_count_total = 55163335\n",
    "\n",
    "#Importing the data, putting it in a DataFrame\n",
    "full_word_list = pd.read_table('Data/full_word_list.txt')\n",
    "#Renaming the columns\n",
    "full_word_list.columns = ['Word']\n",
    "#Extracting word count\n",
    "full_word_list['Count'] = pd.to_numeric(full_word_list['Word'].str.split('<SEP>', expand=True)[1])\n",
    "#Extracted words that were used\n",
    "full_word_list['Word'] = full_word_list['Word'].str.split('<SEP>', expand=True)[0]\n",
    "#Dropping rows we will not use\n",
    "full_word_list = full_word_list.drop(full_word_list.index[:6])\n",
    "\n",
    "#Extracting the first 10 0000  values, because the rest is not stemmed and not necessarly in english\n",
    "full_word_list = full_word_list.head(10000)\n",
    "\n",
    "\n",
    "#Removing english stop words \n",
    "for word in full_word_list['Word']:\n",
    "    if word in stopwords.words('english'):\n",
    "        full_word_list = full_word_list[full_word_list.Word != word]\n",
    "        \n",
    "#Computing the percentage of occurence:\n",
    "full_word_list['Occurence_percentage'] = (full_word_list['Count']/ Word_count_total)*100\n",
    "#computing weight of words\n",
    "full_word_list['Weight']= 1/full_word_list['Occurence_percentage']\n",
    "\n",
    "#Display\n",
    "display(full_word_list.head(10))"
   ]
  },
  {
   "cell_type": "code",
   "execution_count": 20,
   "metadata": {},
   "outputs": [],
   "source": [
    "# function to get the complexity of one song by analyzing the weight of all his word\n",
    "def complexity_Song(lyrics):\n",
    "    #create a variable to stock the sum of the weights for every word of the song\n",
    "    sum_weight= 0\n",
    "    #split the lyrics to get an array of words and not just one big string\n",
    "    lyric = lyrics.split(' ')\n",
    "    #lyric = lyric.remove(' ')\n",
    "    \n",
    "    #filtering empty values\n",
    "    lyric = list(filter(None, lyric))\n",
    "    \n",
    "    #Removing every english stopword from the given lyric\n",
    "    lyric = [word for word in lyric if word not in stopwords.words('english')]\n",
    "    \n",
    "    for x in lyric:\n",
    "        #Making sure that the data is not empty\n",
    "        if len(full_word_list.loc[full_word_list['Word'] == x]['Weight'].values) != 0 :\n",
    "            sum_weight += full_word_list.loc[full_word_list['Word'] == x]['Weight'].values  \n",
    "\n",
    "    return float(sum_weight/len(lyric))"
   ]
  },
  {
   "cell_type": "markdown",
   "metadata": {},
   "source": [
    "##### Comment: \n",
    "This implementation is inspired by the TF-IDF algorithm. If the occurence of a word is weak in a dataset, it means that it is less common in the language, meaning that the lexical complexity is higher.\n",
    "\n",
    "English stopwords are very common in every sentences, they are used so typically that they do not add anything relevant to the analysis. This is the reason why we take them out. Our complexity analysis must be focused on words that do not appear regularly."
   ]
  },
  {
   "cell_type": "markdown",
   "metadata": {},
   "source": [
    "## 2.3. Topic classification\n",
    "Having the data divided in genres in important for our analysis, however we are still missing one key dimension to make our work relevant for social good: The topic that is adressed in the songs. We must be able to know which subject is dealt with in a song, and then we will aggregate the data for the genre and we will be able to understand how a particular genre is handling a specific topic. For this part we are still considering two options:\n",
    "\n",
    "##### Option 1: Use the classifier from the 20newsgroup\n",
    "The work that was done in the second part of Homework 4. The good point is that we have a tuned algorithm to classify text into 20 different classes with more than 85% of accuracy. It is very powerful but not the exact algorithm we are looking for. It provides a strict classification, putting a text into one precise class while we would rather have several tags for a particular music. Artists tend to treat several topics we writing a song, and the 20newsgroup classifier would limitate our data treatment.\n",
    "\n",
    "Some data cleaning will be required if applying the 20newsgroup classifier. For instance categories dealing with computer science are likley to be irrelevant when classifying songs, thus why they will be taken away. \n",
    "\n",
    "##### Option 2: Find a deep learning algorithm/dataset that provides tags for songs\n",
    "We are still exploring this possibility because option 1 does not provide the most appealing data we want. We have not encountered yet an algorithm that would provide a categorization with several tags. We are aware that we may not find such classifier, but since the 20newsgroup one is already fully implemented and ready to use (Tf-idf and RandomForest are coded. We will look for another option for as long as we can.\n",
    "\n",
    "\n",
    "\n",
    "## 2.4. Example: Polarity and Complexity in Rap\n",
    "In order to show how we will proceed on the dataset, we will use the first 100 songs of one genre as an example (in this case Rap). We know that the size is too small to have some conclusions, however we are interested in running and visualization for now. We want to make sure that this code works and provides appealing visualization. The generalization of this code will be implemented in the last part of the project.\n",
    "\n",
    "We start with the polarity analysis:"
   ]
  },
  {
   "cell_type": "code",
   "execution_count": 21,
   "metadata": {},
   "outputs": [],
   "source": [
    "#Extracting the Data of the genre\n",
    "Rap_example = matches[(matches['genre'] == 'Rap')].head(100)\n",
    "\n",
    "#Resetting index\n",
    "Rap_example.reset_index(inplace=True)\n",
    "\n",
    "#Intiating an empty column, in order to be able to interate on it\n",
    "Rap_example['Bags_of_words'] = ''\n",
    "#Getting all the textual data in the DataFrame\n",
    "for i in Rap_example.index:\n",
    "    Rap_example.at[i, 'Bags_of_words'] = create_text(Rap_example.at[i, 'words_freq'])"
   ]
  },
  {
   "cell_type": "code",
   "execution_count": 22,
   "metadata": {},
   "outputs": [
    {
     "data": {
      "text/html": [
       "<div>\n",
       "<style>\n",
       "    .dataframe thead tr:only-child th {\n",
       "        text-align: right;\n",
       "    }\n",
       "\n",
       "    .dataframe thead th {\n",
       "        text-align: left;\n",
       "    }\n",
       "\n",
       "    .dataframe tbody tr th {\n",
       "        vertical-align: top;\n",
       "    }\n",
       "</style>\n",
       "<table border=\"1\" class=\"dataframe\">\n",
       "  <thead>\n",
       "    <tr style=\"text-align: right;\">\n",
       "      <th></th>\n",
       "      <th>Tid</th>\n",
       "      <th>Latitude</th>\n",
       "      <th>Longitude</th>\n",
       "      <th>Artist_Name</th>\n",
       "      <th>genre</th>\n",
       "      <th>Title</th>\n",
       "      <th>MXM_Tid</th>\n",
       "      <th>year</th>\n",
       "      <th>words_freq</th>\n",
       "      <th>Bags_of_words</th>\n",
       "    </tr>\n",
       "  </thead>\n",
       "  <tbody>\n",
       "    <tr>\n",
       "      <th>0</th>\n",
       "      <td>TRABIVW12903CFC962</td>\n",
       "      <td>-10.40633</td>\n",
       "      <td>-77.23871</td>\n",
       "      <td>Silkk The Shocker</td>\n",
       "      <td>Rap</td>\n",
       "      <td>Thug 'N' Me</td>\n",
       "      <td>1014500</td>\n",
       "      <td>1998</td>\n",
       "      <td>[1:22, 2:10, 3:26, 4:8, 5:8, 6:6, 7:36, 8:8, 9...</td>\n",
       "      <td>i  i  i  i  i  i  i  i  i  i  i  i  i  i  i  ...</td>\n",
       "    </tr>\n",
       "    <tr>\n",
       "      <th>1</th>\n",
       "      <td>TRACHHH128E0788A35</td>\n",
       "      <td>34.05349</td>\n",
       "      <td>-118.24532</td>\n",
       "      <td>Dilated Peoples</td>\n",
       "      <td>Rap</td>\n",
       "      <td>Big Business</td>\n",
       "      <td>2178075</td>\n",
       "      <td>2004</td>\n",
       "      <td>[1:8, 2:18, 3:4, 4:12, 5:6, 6:4, 7:3, 8:5, 9:1...</td>\n",
       "      <td>i  i  i  i  i  i  i  i  the  the  the  the  t...</td>\n",
       "    </tr>\n",
       "    <tr>\n",
       "      <th>2</th>\n",
       "      <td>TRADODV128F4283EB6</td>\n",
       "      <td>34.05349</td>\n",
       "      <td>-118.24532</td>\n",
       "      <td>Mobb Deep</td>\n",
       "      <td>Rap</td>\n",
       "      <td>Got It Twisted</td>\n",
       "      <td>2683192</td>\n",
       "      <td>2004</td>\n",
       "      <td>[1:4, 2:17, 3:14, 4:19, 5:5, 6:6, 7:2, 8:10, 9...</td>\n",
       "      <td>i  i  i  i  the  the  the  the  the  the  the...</td>\n",
       "    </tr>\n",
       "    <tr>\n",
       "      <th>3</th>\n",
       "      <td>TRAGUEL128F92C48CF</td>\n",
       "      <td>29.76045</td>\n",
       "      <td>-95.36978</td>\n",
       "      <td>Lil Mama</td>\n",
       "      <td>Rap</td>\n",
       "      <td>G-Slide (Tour Bus)</td>\n",
       "      <td>7318348</td>\n",
       "      <td>2007</td>\n",
       "      <td>[1:19, 2:24, 3:23, 4:21, 5:10, 6:7, 7:18, 8:18...</td>\n",
       "      <td>i  i  i  i  i  i  i  i  i  i  i  i  i  i  i  ...</td>\n",
       "    </tr>\n",
       "    <tr>\n",
       "      <th>4</th>\n",
       "      <td>TRAGVAO128F4289B5D</td>\n",
       "      <td>34.05349</td>\n",
       "      <td>-118.24532</td>\n",
       "      <td>Mobb Deep</td>\n",
       "      <td>Rap</td>\n",
       "      <td>Up North Trip</td>\n",
       "      <td>8876004</td>\n",
       "      <td>1995</td>\n",
       "      <td>[1:20, 2:40, 3:27, 4:26, 5:18, 6:25, 7:5, 8:16...</td>\n",
       "      <td>i  i  i  i  i  i  i  i  i  i  i  i  i  i  i  ...</td>\n",
       "    </tr>\n",
       "  </tbody>\n",
       "</table>\n",
       "</div>"
      ],
      "text/plain": [
       "                  Tid  Latitude  Longitude        Artist_Name genre  \\\n",
       "0  TRABIVW12903CFC962 -10.40633  -77.23871  Silkk The Shocker   Rap   \n",
       "1  TRACHHH128E0788A35  34.05349 -118.24532    Dilated Peoples   Rap   \n",
       "2  TRADODV128F4283EB6  34.05349 -118.24532          Mobb Deep   Rap   \n",
       "3  TRAGUEL128F92C48CF  29.76045  -95.36978           Lil Mama   Rap   \n",
       "4  TRAGVAO128F4289B5D  34.05349 -118.24532          Mobb Deep   Rap   \n",
       "\n",
       "                Title  MXM_Tid  year  \\\n",
       "0         Thug 'N' Me  1014500  1998   \n",
       "1        Big Business  2178075  2004   \n",
       "2      Got It Twisted  2683192  2004   \n",
       "3  G-Slide (Tour Bus)  7318348  2007   \n",
       "4       Up North Trip  8876004  1995   \n",
       "\n",
       "                                          words_freq  \\\n",
       "0  [1:22, 2:10, 3:26, 4:8, 5:8, 6:6, 7:36, 8:8, 9...   \n",
       "1  [1:8, 2:18, 3:4, 4:12, 5:6, 6:4, 7:3, 8:5, 9:1...   \n",
       "2  [1:4, 2:17, 3:14, 4:19, 5:5, 6:6, 7:2, 8:10, 9...   \n",
       "3  [1:19, 2:24, 3:23, 4:21, 5:10, 6:7, 7:18, 8:18...   \n",
       "4  [1:20, 2:40, 3:27, 4:26, 5:18, 6:25, 7:5, 8:16...   \n",
       "\n",
       "                                       Bags_of_words  \n",
       "0   i  i  i  i  i  i  i  i  i  i  i  i  i  i  i  ...  \n",
       "1   i  i  i  i  i  i  i  i  the  the  the  the  t...  \n",
       "2   i  i  i  i  the  the  the  the  the  the  the...  \n",
       "3   i  i  i  i  i  i  i  i  i  i  i  i  i  i  i  ...  \n",
       "4   i  i  i  i  i  i  i  i  i  i  i  i  i  i  i  ...  "
      ]
     },
     "metadata": {},
     "output_type": "display_data"
    }
   ],
   "source": [
    "#Displaying results\n",
    "display(Rap_example.head())"
   ]
  },
  {
   "cell_type": "code",
   "execution_count": 23,
   "metadata": {},
   "outputs": [
    {
     "data": {
      "image/png": "[encoded data removed]",
      "text/plain": [
       "<matplotlib.figure.Figure at 0x1b08e3ae9e8>"
      ]
     },
     "metadata": {},
     "output_type": "display_data"
    },
    {
     "name": "stdout",
     "output_type": "stream",
     "text": [
      "The mean value is\n"
     ]
    },
    {
     "data": {
      "text/plain": [
       "-0.09608200000000001"
      ]
     },
     "metadata": {},
     "output_type": "display_data"
    }
   ],
   "source": [
    "#Applying the polarity analysis for the bags of words\n",
    "for i in Rap_example.index:\n",
    "    Rap_example.at[i, 'Polarity_score'] = analyser.polarity_scores(Rap_example.at[i, 'Bags_of_words'])['compound']\n",
    "    \n",
    "#Sorting values to have a meaningfull plot\n",
    "Rap_example = Rap_example.sort_values('Polarity_score', ascending=False)\n",
    "Rap_example = Rap_example.reset_index()\n",
    "\n",
    "#plotting the results: Polarity\n",
    "plt.bar(Rap_example.index, Rap_example['Polarity_score'])\n",
    "plt.title('Polarity in Rap')\n",
    "plt.show()\n",
    "\n",
    "#Computing the polarity's mean value for the genre\n",
    "print(\"The mean value is\")\n",
    "display(pd.to_numeric(Rap_example['Polarity_score'].mean()))"
   ]
  },
  {
   "cell_type": "markdown",
   "metadata": {},
   "source": [
    "We like this representation. We find it meaningful and visually appealing. This is the reason why we will keep this representation as our main visualization. \n",
    "\n",
    "And now, we apply computation for the lexical complexity:"
   ]
  },
  {
   "cell_type": "code",
   "execution_count": 24,
   "metadata": {},
   "outputs": [
    {
     "data": {
      "image/png": "[encoded data removed]",
      "text/plain": [
       "<matplotlib.figure.Figure at 0x1b08dd72438>"
      ]
     },
     "metadata": {},
     "output_type": "display_data"
    },
    {
     "name": "stdout",
     "output_type": "stream",
     "text": [
      "The mean value is\n"
     ]
    },
    {
     "data": {
      "text/plain": [
       "114.95028863171996"
      ]
     },
     "metadata": {},
     "output_type": "display_data"
    }
   ],
   "source": [
    "#Applying the lexical complexity analysis for the bags of words\n",
    "for i in Rap_example.index:\n",
    "    Rap_example.at[i,'Lexical_complexity'] = complexity_Song(Rap_example.at[i,'Bags_of_words'])\n",
    "\n",
    "#Sorting values to have a meaningfull plot\n",
    "Rap_example = Rap_example.sort_values('Lexical_complexity', ascending=False)\n",
    "#plotting the results: Lexical complexity\n",
    "plt.bar(Rap_example.index, Rap_example['Lexical_complexity'])\n",
    "plt.title('Lexical complexity in Rap')\n",
    "plt.show()\n",
    "\n",
    "#Computing the lexical complexity's mean value for the genre\n",
    "print(\"The mean value is\")\n",
    "display(pd.to_numeric(Rap_example['Lexical_complexity'].mean()))"
   ]
  },
  {
   "cell_type": "markdown",
   "metadata": {},
   "source": [
    "Finally, we can visualize the evolution of complexity through time for the given subset:"
   ]
  },
  {
   "cell_type": "code",
   "execution_count": 25,
   "metadata": {},
   "outputs": [
    {
     "data": {
      "image/png": "[encoded data removed]",
      "text/plain": [
       "<matplotlib.figure.Figure at 0x1b08e7d2978>"
      ]
     },
     "metadata": {},
     "output_type": "display_data"
    }
   ],
   "source": [
    "#Sorting values to have a meaningfull plot\n",
    "Rap_example = Rap_example.sort_values('year')\n",
    "\n",
    "#plotting the results: Evolution of complexity through time\n",
    "\n",
    "plt.bar(Rap_example['year'], Rap_example['Lexical_complexity'])\n",
    "plt.title('Rap: Lexical complexity through time')\n",
    "plt.show()"
   ]
  },
  {
   "cell_type": "markdown",
   "metadata": {},
   "source": [
    "##### Comments: \n",
    "- This allows us to get an overview of the genre\n",
    "- The obtained graph could be compared with other genres.\n",
    "- When having data about the topics, we will be able to analyse compare how genres are treating specific topics. \n",
    "- Lexical complexity can be analysed through time, allowing to get an overview of the evolution of a the genre itself. "
   ]
  },
  {
   "cell_type": "markdown",
   "metadata": {},
   "source": [
    "# 3. Visualization: How to meaningfully represent the data\n",
    "Now that we have the tools for a sentiment analysis, we must decide a way to visualize the results. Having a straightforward visualization will helop to compare the analyse features between genres, and this is precisely what we will try to achieve with the following visualization.\n",
    "\n",
    "All the interactive visualization structure that we have here will be displayed in a blog. \n",
    "\n",
    "## 3.1. Topic-based approach\n",
    "We first deal with polarity, then with lexical complexity."
   ]
  },
  {
   "cell_type": "markdown",
   "metadata": {
    "collapsed": true
   },
   "source": [
    "### 3.1.1. Dealing with polarity\n",
    "When having the topics and the polarity, we will be able to have an overview of how social topics are dealt with across music genres. We cannot draw any conclusion for this part without having every visual, but we believe that the comparison will provide a good insight on how music treats social topics.\n",
    "\n",
    "Once every visualization will be generated, here is the representation structure that we want to have:"
   ]
  },
  {
   "cell_type": "code",
   "execution_count": 26,
   "metadata": {},
   "outputs": [
    {
     "data": {
      "image/png": "[encoded data removed]",
      "text/plain": [
       "<IPython.core.display.Image object>"
      ]
     },
     "metadata": {},
     "output_type": "display_data"
    }
   ],
   "source": [
    "display(Image(filename='Data/Organigram_polarity_viz.png'))"
   ]
  },
  {
   "cell_type": "markdown",
   "metadata": {
    "collapsed": true
   },
   "source": [
    "##### Description\n",
    "- Each edge stands for a user's click.\n",
    "- Rectangles are representing the barplot of polarity (for each genre/artist at the level)\n",
    "- The user will pick a topic, this will display every genre treating the topic and their polarity barplot. Then when clicking on a genre's plot it will display what is polarity barplot for every artiss.\n",
    "\n",
    "\n",
    "### 3.1.2. Dealing with complexity\n",
    "We believe that there is a correlation between the complexity and the target audience. Has asserted earlier in this work, we do not have the sociological expertise to match the complextiy with precise social groups, but we assume that there is a correlation between the audience's age + educational level and the complexity of lyrics. \n",
    "\n",
    "We want to be able to visualize the complexity in two distinct ways. At first from a topic perspective by having genre displaying their complexity when treating a particular subject. Here is the display organigram we want to have:"
   ]
  },
  {
   "cell_type": "code",
   "execution_count": 27,
   "metadata": {},
   "outputs": [
    {
     "data": {
      "image/png": "[encoded data removed]",
      "text/plain": [
       "<IPython.core.display.Image object>"
      ]
     },
     "metadata": {},
     "output_type": "display_data"
    }
   ],
   "source": [
    "display(Image(filename='Data/Organigram_complexity_viz.png'))"
   ]
  },
  {
   "cell_type": "markdown",
   "metadata": {},
   "source": [
    "##### Description\n",
    "As before, edges stand for a user's click. Then when picking a genre, we will visualize what is the used lexical complexity. Comparing this value to this average of the genre will help to see if the target is more educated/older than the usual case for the genre.\n",
    "\n",
    "\n",
    "\n",
    "\n",
    "The second visualization we want to provide is starting with topics on top. For every topic we want to be able to see the mean lexical complexity that is used by a genre to treat the topic. This will allow is to know what are the targeted audiences of each genres for a precise topic. Here is the data organigram:"
   ]
  },
  {
   "cell_type": "code",
   "execution_count": 28,
   "metadata": {},
   "outputs": [
    {
     "data": {
      "image/png": "[encoded data removed]",
      "text/plain": [
       "<IPython.core.display.Image object>"
      ]
     },
     "metadata": {},
     "output_type": "display_data"
    }
   ],
   "source": [
    "display(Image(filename='Data/Organigram_complexity_topic_viz.png'))"
   ]
  },
  {
   "cell_type": "markdown",
   "metadata": {},
   "source": [
    "## 3.2. Data by location\n",
    "\n",
    "We want to know what topic is adressed in each genre, and especially how is it spread accross the globe. For that we will use the location data that we gathered. We want to produce maps for:\n",
    "- Complexity within a genre. In order to know how elaborate a genre is in different places around the world. We will use a heatmap to visualize the data.\n",
    "- Polarity of genres when dealing with a certain topic. For instance we want to be able to know if a subject has a negative polarity in rock in the US while it is positive in the UK. "
   ]
  },
  {
   "cell_type": "markdown",
   "metadata": {},
   "source": [
    "## 3.3. Chronological progression\n",
    "In order to know how a genre evolved, we want to plot the lexical complexity through time of every genre. We will use, again, a barplot. With the chronology on the x-axis an the complexity on the y-axis. "
   ]
  },
  {
   "cell_type": "markdown",
   "metadata": {},
   "source": [
    "# 4. Decisions: What can be said from the outputs, and what is left to do\n",
    "\n",
    "\n",
    "## 4.1. Intermediary conclusions\n",
    "\n",
    "##### Data handling\n",
    "Due to the fact that we are solely treating text, and that the lyrics are not entirely given, we use a volume of data that is relatively small. This situation enables us to have the original text files stored on our machines, and proceeding to storage of value when using the notebook is not necessary since our computer's cache is big enough to treat our data.\n",
    "\n",
    "##### Visualization\n",
    "We are convinced that the barplot is the most fitting representation for the generated graphs. We might find another librairy that makes it look more visually appealing, but we believe that it is the most meaningful way to show our results.\n",
    "\n",
    "##### Comparison\n",
    "Once we will have a topic-based split of our data, we will be able to compare how topics are treated in different genres.\n",
    "\n"
   ]
  },
  {
   "cell_type": "markdown",
   "metadata": {},
   "source": [
    "## 4.2. Further objectives\n",
    "\n",
    "- Find a classification to have topics, and if no useful algorithm, use the one we built on the 20newsgroup.\n",
    "Establish a host and astructure for a blog. Now that the raw material is present, we must seek for a layout that fits our project. \n",
    "- Expand our analysis to the whole dataset. As discussed earlier, we only treated a sample for this milestone, in order to show what we are aiming at. "
   ]
  },
  {
   "cell_type": "markdown",
   "metadata": {},
   "source": [
    "## 4.3. Planning until milestone 3\n",
    "\n",
    "04.12. \n",
    "- Decide which option we should consider for the topic analysis (if nothing relevant is find for option 2, we will use option 1).\n",
    "- Generalize our data treatment to the whole dataset.\n",
    "- Generate the visualizations we want to have. \n",
    "- Decide what type of storage is the most efficient for our generated graphics\n",
    "- Start build the blog\n",
    "\n",
    "\n",
    "11.12.\n",
    "- Start building the blog.\n",
    "- Finish the written report\n",
    "- Debug our code\n",
    "\n",
    "19.12. \n",
    "- Handout milestone\n",
    "\n",
    "\n",
    "#### Questions for the TA\n",
    "- Is there a deep learning that could classify our bags of words by topic? We believe that something implement with TF-IDF as a starting point would be useful but could not find anything concluant yet.\n",
    "- Is there a blog platform that could host our data structure and visualization for free?\n",
    "- Does it seem to you that the analysis we are aiming at is meaningful and relevant enough to be considered as \"Handling data for social good\"?"
   ]
  }
 ],
 "metadata": {
  "kernelspec": {
   "display_name": "Python [default]",
   "language": "python",
   "name": "python3"
  }
 },
 "nbformat": 4,
 "nbformat_minor": 2
}
