{
 "cells": [
  {
   "cell_type": "markdown",
   "metadata": {},
   "source": [
    "# Topics - a GloVe implementation\n"
   ]
  },
  {
   "cell_type": "markdown",
   "metadata": {},
   "source": [
    "## TODO-list:\n",
    "- make visualization of decisionprocess\n",
    "- do topic for all words in the vocabulary"
   ]
  },
  {
   "cell_type": "markdown",
   "metadata": {},
   "source": [
    "### Unrelated ideas\n",
    "- We *could* do PCA to vizualize glove technology "
   ]
  },
  {
   "cell_type": "code",
   "execution_count": null,
   "metadata": {},
   "outputs": [],
   "source": [
    "# external imports\n",
    "import numpy as np\n",
    "import pandas as pd\n",
    "import seaborn as sb\n",
    "import gensim as gs\n",
    "import pylab as pl\n",
    "import matplotlib.pyplot as plt\n",
    "import csv\n",
    "import scipy\n",
    "import sklearn.preprocessing\n",
    "\n",
    "# internal imports\n",
    "import helpers as HP\n",
    "\n",
    "\n",
    "\n",
    "# Constants: PS! put in your own paths to the files\n",
    "GLOVE_FOLDER = 'glove.twitter.27B'\n",
    "GS_FOLDER = 'gensim_glove_twitter_27B/'\n",
    "GS_25DIM = GS_FOLDER + \"gensim_glove_25dim.txt\"\n",
    "GS_50DIM = GS_FOLDER + \"gensim_glove_50dim.txt\"\n",
    "GS_100DIM = GS_FOLDER + \"gensim_glove_100dim.txt\"\n",
    "GS_200DIM = GS_FOLDER + \"gensim_glove_200dim.txt\"\n"
   ]
  },
  {
   "cell_type": "markdown",
   "metadata": {},
   "source": [
    "## Gensim GloVe\n",
    "one can use gensims word2vec functions to check similarity and other interesting functions\n",
    "https://radimrehurek.com/gensim/models/word2vec.html"
   ]
  },
  {
   "cell_type": "markdown",
   "metadata": {},
   "source": [
    "#### ONLY ONE TIME: create the gensim_files"
   ]
  },
  {
   "cell_type": "code",
   "execution_count": null,
   "metadata": {},
   "outputs": [],
   "source": [
    "# spits out a .txt-file with the vectors in gensim format\n",
    "#HP.create_gensim_wv_from_glove(GLOVE_FOLDER)\n",
    "# afterwards you can delete the originalglovefiles"
   ]
  },
  {
   "cell_type": "markdown",
   "metadata": {},
   "source": [
    "#### Loading global vectors"
   ]
  },
  {
   "cell_type": "code",
   "execution_count": null,
   "metadata": {},
   "outputs": [],
   "source": [
    "# uses the created gensim-.txt file to create the word2vec so one can operate on it\n",
    "# choose wordvectors with the dimension you want\n",
    "global_vectors = HP.load_gensim_global_vectors(GS_200DIM)"
   ]
  },
  {
   "cell_type": "markdown",
   "metadata": {},
   "source": [
    "#### Examples of use"
   ]
  },
  {
   "cell_type": "code",
   "execution_count": null,
   "metadata": {},
   "outputs": [],
   "source": [
    "global_vectors.similar_by_word(\"racism\")"
   ]
  },
  {
   "cell_type": "code",
   "execution_count": null,
   "metadata": {},
   "outputs": [],
   "source": [
    "# supposed to show queen, to demonstrate the power of word2vec, but failed #blameTwitterDataset\n",
    "global_vectors.most_similar_cosmul(positive=['woman', 'king'], negative=['man'])"
   ]
  },
  {
   "cell_type": "markdown",
   "metadata": {},
   "source": [
    "#### Generating related word to a topic\n",
    "related words should maybe be choosen by hand, if not one can use this method. Define how many words you want to define the topic with topn=__"
   ]
  },
  {
   "cell_type": "code",
   "execution_count": null,
   "metadata": {},
   "outputs": [],
   "source": [
    "related_words = HP.generate_related_words(\"racism\", global_vectors, topn=12)\n",
    "print(related_words)\n",
    "custom_related = ['racism', 'bigotry', 'apartheid', 'black', 'nigger', 'race']"
   ]
  },
  {
   "cell_type": "markdown",
   "metadata": {},
   "source": [
    "#### Creating topic vector with associated standard deviations "
   ]
  },
  {
   "cell_type": "code",
   "execution_count": null,
   "metadata": {},
   "outputs": [],
   "source": [
    "racism_topic_vector, racism_std_dims  = HP.create_topic(related_words, global_vectors)\n",
    "print(\"top similarity for custom racismvector:\", global_vectors.similar_by_vector(racism_topic_vector))\n",
    "c_racism_topic_vector, c_racism_std_dims = HP.create_topic(custom_related, global_vectors)\n",
    "print(\"top similarity for custom racismvector:\", global_vectors.similar_by_vector(c_racism_topic_vector))"
   ]
  },
  {
   "cell_type": "markdown",
   "metadata": {},
   "source": [
    "#### Calculating a words relation to topic"
   ]
  },
  {
   "cell_type": "code",
   "execution_count": null,
   "metadata": {},
   "outputs": [],
   "source": [
    "###### GENERATED #####\n",
    "## Comparing \"nigger\" and \"misogynist\" with standard cosine with all dimensions\n",
    "word_vector = global_vectors['nigger']\n",
    "similarity_score = HP.calculate_topic_similarity(word_vector, racism_topic_vector, global_vectors, std_dims=False)\n",
    "print(\"niggers relation to racism\", similarity_score)\n",
    "\n",
    "word_vector = global_vectors['car']\n",
    "similarity_score = HP.calculate_topic_similarity(word_vector, racism_topic_vector, global_vectors, std_dims=False)\n",
    "print(\"car relation to racism\", similarity_score)\n",
    "\n",
    "## Comparing \"nigger\" and \"misogynist\" with standard cosine with all dimensions\n",
    "\n",
    "word_vector = global_vectors['nigger']\n",
    "similarity_score = HP.calculate_topic_similarity(word_vector, racism_topic_vector, global_vectors, std_dims=racism_std_dims, perc_dim_to_compare=0.8)\n",
    "print(\"\\nniggers relation to racism\", similarity_score)\n",
    "\n",
    "word_vector = global_vectors['car']\n",
    "similarity_score = HP.calculate_topic_similarity(word_vector, racism_topic_vector, global_vectors, std_dims=racism_std_dims, perc_dim_to_compare=0.8)\n",
    "print(\"car relation to racism\", similarity_score)"
   ]
  },
  {
   "cell_type": "code",
   "execution_count": null,
   "metadata": {},
   "outputs": [],
   "source": [
    "###### CUSTOM #####\n",
    "## Comparing \"nigger\" and \"misogynist\" with standard cosine with all dimensions\n",
    "word_vector = global_vectors['nigger']\n",
    "similarity_score = HP.calculate_topic_similarity(word_vector, c_racism_topic_vector, global_vectors, std_dims=False)\n",
    "print(\"niggers relation to racism\", similarity_score)\n",
    "\n",
    "word_vector = global_vectors['car']\n",
    "similarity_score = HP.calculate_topic_similarity(word_vector, c_racism_topic_vector, global_vectors, std_dims=False)\n",
    "print(\"car relation to racism\", similarity_score)\n",
    "\n",
    "## Comparing \"nigger\" and \"misogynist\" with standard cosine with all dimensions\n",
    "\n",
    "word_vector = global_vectors['nigger']\n",
    "similarity_score = HP.calculate_topic_similarity(word_vector, c_racism_topic_vector, global_vectors, std_dims=racism_std_dims, perc_dim_to_compare=0.4)\n",
    "print(\"\\nniggers relation to racism\", similarity_score)\n",
    "\n",
    "word_vector = global_vectors['car']\n",
    "similarity_score = HP.calculate_topic_similarity(word_vector, c_racism_topic_vector, global_vectors, std_dims=racism_std_dims, perc_dim_to_compare=0.4)\n",
    "print(\"car relation to racism\", similarity_score)"
   ]
  },
  {
   "cell_type": "markdown",
   "metadata": {},
   "source": [
    "It is working the right direction, but is it good enough to group just by cosine?\n",
    "We should try and assess if this is a good method.. :/ "
   ]
  },
  {
   "cell_type": "markdown",
   "metadata": {},
   "source": [
    "## Creating vizalization for decisionmaking of topics-words (+ for blog)"
   ]
  },
  {
   "cell_type": "code",
   "execution_count": null,
   "metadata": {},
   "outputs": [],
   "source": [
    "analyze_related_words(related_words, global_vectors)\n",
    "\"\"\"\n",
    "Must add labals manually when adding to blog\n",
    "\"\"\""
   ]
  },
  {
   "cell_type": "code",
   "execution_count": null,
   "metadata": {},
   "outputs": [],
   "source": []
  }
 ],
 "metadata": {
  "kernelspec": {
   "display_name": "Python 3",
   "language": "python",
   "name": "python3"
  },
  "language_info": {
   "codemirror_mode": {
    "name": "ipython",
    "version": 3
   },
   "file_extension": ".py",
   "mimetype": "text/x-python",
   "name": "python",
   "nbconvert_exporter": "python",
   "pygments_lexer": "ipython3",
   "version": "3.6.2"
  }
 },
 "nbformat": 4,
 "nbformat_minor": 2
}
