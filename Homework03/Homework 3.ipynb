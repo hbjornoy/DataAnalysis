{
 "cells": [
  {
   "cell_type": "markdown",
   "metadata": {},
   "source": [
    "# HOMEWORK 3\n",
    "\n",
    "## Open the homework in nbviewer to see the plots properly. Link below.\n",
    "http://nbviewer.jupyter.org/github/hbjornoy/DataAnalysis/blob/master/Homework03/Homework%203.ipynb"
   ]
  },
  {
   "cell_type": "markdown",
   "metadata": {},
   "source": [
    "Import all libraries needed in the Homework"
   ]
  },
  {
   "cell_type": "code",
   "execution_count": null,
   "metadata": {},
   "outputs": [],
   "source": [
    "import pandas as pd \n",
    "from IPython.display import display, HTML\n",
    "import os\n",
    "import numpy as np\n",
    "import json\n",
    "import folium\n",
    "import copy\n",
    "import matplotlib.pyplot as plt\n",
    "import matplotlib.cm as cm\n",
    "from IPython.display import display, Image\n",
    "%matplotlib inline"
   ]
  },
  {
   "cell_type": "markdown",
   "metadata": {},
   "source": [
    "# Question 1\n"
   ]
  },
  {
   "cell_type": "markdown",
   "metadata": {},
   "source": [
    "**********\n",
    "Go to the eurostat website and try to find a dataset that includes the european unemployment rates at a recent date.\n",
    "\n",
    "Use this data to build a Choropleth map which shows the unemployment rate in Europe at a country level. Think about the colors you use, how you decided to split the intervals into data classes or which interactions you could add in order to make the visualization intuitive and expressive. Compare Switzerland's unemployment rate to that of the rest of Europe.\n",
    "**********"
   ]
  },
  {
   "cell_type": "markdown",
   "metadata": {},
   "source": [
    "### IMPORT DATA AND CREATE A DATAFRAME"
   ]
  },
  {
   "cell_type": "markdown",
   "metadata": {},
   "source": [
    "We downloaded the set : \n",
    "Unemployment rates by sex, age and nationality (%) which is a excel file(.xls)"
   ]
  },
  {
   "cell_type": "code",
   "execution_count": null,
   "metadata": {},
   "outputs": [],
   "source": [
    "# Import the excel file and call it xls_file\n",
    "xls_file = pd.ExcelFile('Data/lfsa_urgan.xls')\n",
    "initial_df = xls_file.parse()\n",
    "\n",
    "#display the dataframe created above\n",
    "display(initial_df.head())"
   ]
  },
  {
   "cell_type": "markdown",
   "metadata": {},
   "source": [
    "We see that there are a lots of NaN because the dataframe represents exactly the cells of the excel files. And inside the file lots of cells are empty. We also observe in the file that there are 3 tables. One for the total of the population, One only for the Males and the last only for females. \n",
    "Therefore now we have to extract the table with the unemployement rate of the total population for 2016 for All the european countries.\n",
    "\n",
    "To do so we :  \n",
    "    - Extract the lines 17 to 50 which represents the unemployemend rate for the Total of the population for every country  \n",
    "    - keep only  the most recents data which are in the last columns of the dataframe (i.e : 2016)"
   ]
  },
  {
   "cell_type": "code",
   "execution_count": null,
   "metadata": {},
   "outputs": [],
   "source": [
    "#Rename the useful columns\n",
    "df = initial_df.copy()\n",
    "df.rename(columns={'Unemployment rates by sex, age and nationality (%) [lfsa_urgan]':'Country'}, inplace=True)\n",
    "df.rename(columns={'Unnamed: 10':'2016 Unemployement Rate'}, inplace=True)\n",
    "#Keep the useful culumns\n",
    "df = df[['Country','2016 Unemployement Rate']]\n",
    "#Keep the lines representing individual countries between the 17th and the 49th\n",
    "df_european_unemployement = df[df.Country=='European Union (28 countries)']\n",
    "df_final = df[17:50].copy()\n",
    "# Clean the name of the countries\n",
    "df_final.Country.replace('Germany (until 1990 former territory of the FRG)','Germany',inplace=True)\n",
    "df_final.Country.replace('Former Yugoslav Republic of Macedonia, the','The former Yugoslav Republic of Macedonia',inplace=True)\n",
    "\n",
    "#display the head of the dataframe\n",
    "display(df_final.head())"
   ]
  },
  {
   "cell_type": "markdown",
   "metadata": {},
   "source": [
    "### Matching countries in the topojson and unemployment data.  \n",
    "To make it possible to visualize the countries that we do not have data on. We will create a cleaned toposjon that only contain the matched countries.  \n",
    " - First we display all the countries inside the europe topojson  \n",
    " - Secondly we print the countries that are in our dataframe with the unemployement datas"
   ]
  },
  {
   "cell_type": "code",
   "execution_count": null,
   "metadata": {},
   "outputs": [],
   "source": [
    "#Open the topojson for europe\n",
    "with open('topojson/europe.topojson.json') as f:    \n",
    "    topo_json = json.load(f)\n",
    "    #create an array \n",
    "    topo_countries = np.zeros(len(topo_json['objects']['europe']['geometries']), dtype=object)\n",
    "    # Upload the array with the informations inside topojson\n",
    "    for i, id_nr in enumerate(topo_json['objects']['europe']['geometries']):\n",
    "        topo_countries[i] = id_nr['properties']['NAME']\n",
    "    #sort the array topo_country\n",
    "    topo_countries = sorted(topo_countries)\n",
    "    \n",
    "#print th countries in topojson europe      \n",
    "print(\"Number of countries in 'topojson/europe.topojson.json':\", len(topo_countries))\n",
    "print(topo_countries)\n",
    "\n",
    "#print the countries in the datas with unemployement rate\n",
    "unemploy_countries = sorted(df_final['Country'])\n",
    "print(\"\\nNumber of countries in Unemployed rate data:\", len(unemploy_countries))\n",
    "print(unemploy_countries)"
   ]
  },
  {
   "cell_type": "markdown",
   "metadata": {},
   "source": [
    "Comment:  \n",
    "We display all the countries which we do not have data on.  \n",
    "Then, we compute a topojson without the irrelevant countries displayed"
   ]
  },
  {
   "cell_type": "code",
   "execution_count": null,
   "metadata": {},
   "outputs": [],
   "source": [
    "# Create a list where we will add all the country that are inside the dataFrame and inside the europetopojson\n",
    "matching_countries = []\n",
    "for topo_country in topo_countries:\n",
    "    for unemploy_country in unemploy_countries:\n",
    "        if unemploy_country == topo_country:\n",
    "            matching_countries.append(topo_country)\n",
    "            \n",
    "\n",
    "#display all the countries that we will delete from the topojson and countries in our data not matching with the europetopojson            \n",
    "no_match_topo_countries = np.setdiff1d(ar1=topo_countries, ar2=matching_countries)\n",
    "no_match_unemploy_countries = np.setdiff1d(ar1=unemploy_countries, ar2=matching_countries)\n",
    "print(\"Countries we are about to delete from our topojson:\\n\", no_match_topo_countries)\n",
    "print(\"\\nCountries not matched from Unemployed rate data:\\n\", len(no_match_unemploy_countries))\n",
    "\n",
    "# load once again europe.topojson\n",
    "with open('topojson/europe.topojson.json') as f:    \n",
    "    eur_topojson = json.load(f)\n",
    "    cleaned_eur_topojson = eur_topojson\n",
    "\n",
    "# we keep only the relevant data in our cleand eur topojson\n",
    "cleaned_eur_topojson['objects']['europe'][\"geometries\"] = [x for x in cleaned_eur_topojson['objects']['europe'][\"geometries\"] \n",
    "                                                           if x[\"properties\"][\"NAME\"] not in no_match_topo_countries]"
   ]
  },
  {
   "cell_type": "markdown",
   "metadata": {},
   "source": [
    "Now we have a dataframe with the county and their unemployement rate of 2016 and a topojson with ONLY the countries with datas. We will use this datas to build a Choropleth map which shows the unemployment rate in Europe at a country level. To do so we will implement a few things :   \n",
    "- First we load the topojson of the europe.  \n",
    "- Then we use the method shown in the tutorial to initialize the map of europe.  \n",
    "- Finally we create a choropleth map to match the country with color depending on the unemployement rate   \n",
    "- We display the borders of every countries in europe  \n",
    "        All the countries with transparent layers are countries that we did not find unemployement rate. We deleted them from the topojson just above "
   ]
  },
  {
   "cell_type": "code",
   "execution_count": null,
   "metadata": {
    "collapsed": true
   },
   "outputs": [],
   "source": [
    "def quantile_thresholds(df, num_q):\n",
    "    \"\"\"\n",
    "    This function takes in a df and number of desired quantiles. This is a way of making discrete categories of the\n",
    "    data so that the probability of beeing in each category is approximately the same.\n",
    "    It returns a list of the thresholds.\n",
    "    These thresholds can be used to construct the categories in the choropleth map.\n",
    "    \"\"\"\n",
    "    q_thresholds = []\n",
    "    \n",
    "    # Create different thresholds using the DataFrame.quantile() function\n",
    "    for x in range(num_q):\n",
    "        q_thresholds.append(df.quantile(x/(num_q)))\n",
    "    q_thresholds.append(np.floor(max(df) + 1))\n",
    "    q_thresholds = np.array(q_thresholds).astype('int')\n",
    "    return list(q_thresholds)"
   ]
  },
  {
   "cell_type": "code",
   "execution_count": null,
   "metadata": {
    "scrolled": false
   },
   "outputs": [],
   "source": [
    "#load json data on all of the european countries\n",
    "country_geo_path = 'topojson/europe.topojson.json'\n",
    "geo_json_data = open(country_geo_path)\n",
    "#countries that we have unemployed data on\n",
    "cleaned_topojson = cleaned_eur_topojson\n",
    "\n",
    "#build a blank map of the europe\n",
    "m_europe = folium.Map([48,8], tiles='cartodbpositron', zoom_start=2.6)\n",
    "\n",
    "#create a layer of borders from all the countries in europe\n",
    "folium.TopoJson(geo_json_data,\n",
    "                'objects.europe',\n",
    "                name='nodata_json',\n",
    "                style_function=lambda feature: {\n",
    "                    'fillColor': 'transparent',\n",
    "                    'color' : 'black',\n",
    "                    'weight' : 2,\n",
    "                    'opacity' : 0.8\n",
    "                    }\n",
    "               ).add_to(m_europe)\n",
    "\n",
    "#creating a layer of 'Quantile distribution of countries in categories'\n",
    "m_europe.choropleth(geo_data=cleaned_topojson,\n",
    "                    name='Linear thresholds',\n",
    "                    data=df_final,\n",
    "                    columns=['Country','2016 Unemployement Rate'],\n",
    "                    key_on='feature.properties.NAME',topojson='objects.europe',\n",
    "                    fill_color='BuPu', fill_opacity=0.9, line_opacity=0.2,\n",
    "                    legend_name='Linear coloring: Percentage of unemployement rate (%)')\n",
    "\n",
    "#creating a list of thresholds for the colorcoding of the quantile-choropleth\n",
    "threshold_scale = quantile_thresholds(df_final['2016 Unemployement Rate'], 5)\n",
    "\n",
    "#creating a layer of 'Quantile distribution of countries in categories'\n",
    "m_europe.choropleth(geo_data=cleaned_topojson,\n",
    "                    name='Quantile distribution of countries in categories',\n",
    "                    data=df_final,\n",
    "                    columns=['Country','2016 Unemployement Rate'],\n",
    "                    key_on='feature.properties.NAME',topojson='objects.europe',\n",
    "                    fill_color='BuPu', fill_opacity=0.9, line_opacity=0.2,\n",
    "                    threshold_scale = threshold_scale,\n",
    "                    legend_name='Quantile coloring: Percentage of unemployement rate (%)')\n",
    "\n",
    "\n",
    "#create a symbol that make you able to turn ON and OFF the different layers\n",
    "folium.LayerControl().add_to(m_europe)\n",
    "\n",
    "#display the map\n",
    "m_europe"
   ]
  },
  {
   "cell_type": "markdown",
   "metadata": {},
   "source": [
    "### Instructions for the interactive map:\n",
    "There is a white icon with \"layers\" in the upright corner of the map. Press this map to choose which layers to activate.\n",
    "The colors do NOT represent the same interval of values it is only two different ways to visualize RELATIVE difference in unemployment between countries in Europe.\n",
    "When analysing map <B>KEEP ONLY ONE LAYER</B> on at the same time!\n",
    "\n",
    "There are 3 layers:\n",
    "1. *\"Borders of countries in europe\"*\n",
    "    - This layer is to show where the different countries in europe that we do not have data is located\n",
    "2. *\"Linear Threshold\"*\n",
    "    - This shows a coloring based on linear thresholds which makes it easier to represent absolute difference beetween countries since the categories are 3-4 precentages apart, so one can rougly calculate with visual information.\n",
    "3. *\"Quantile distribution of countries in categories\"*\n",
    "    - Quantile distrubution means that the different categories have the same amount of countries in it. This way the PS: it is rounded to nearest integer for better readability\n",
    "    \n",
    "#### Comment:\n",
    "- The linear threshold has the ability to explain the absolute differences and how big the unemployment problem is in the nations with the highest unemployment. But if you are interested in the distribution or the subtle differences between the nations that have a lower unemployment, the linear threshold dont give you alot of information. The quantile distribution however give a more nuanced information about the most common unemployment numbers. The LEgend with thresholds can itself say alot about the distribution of unemploymentnumbers across nations.\n",
    "\n",
    "***\n",
    "\n",
    "## Compare Switzerland's unemployment rate to that of the rest of Europe."
   ]
  },
  {
   "cell_type": "code",
   "execution_count": null,
   "metadata": {},
   "outputs": [],
   "source": [
    "# We create a dataframe call compare with the data for switzerland and the mean for the rest of the europe\n",
    "frames = [df_final[df_final.Country == 'Switzerland'],df_european_unemployement.iloc[[0]]] \n",
    "result = pd.concat(frames)\n",
    "display(result)"
   ]
  },
  {
   "cell_type": "markdown",
   "metadata": {},
   "source": [
    "We have the unemployement rate of 28 countries in Europe including Switzerland. We now try to display all the results in a histogram. We will use a bar plote.  \n",
    "\n",
    " - The Rate of Switzerland will be in GREEN  \n",
    " - The mean rate of european countries will be in RED"
   ]
  },
  {
   "cell_type": "code",
   "execution_count": null,
   "metadata": {
    "collapsed": true
   },
   "outputs": [],
   "source": [
    "# Fonction to plot the histogram of unemployement rate\n",
    "# Display the information in colors for datas displaied above\n",
    "def plot_bars(column_name, number_bars, df, y_ticks_label, diff_colors):\n",
    "    \n",
    "    # create subplots and title\n",
    "    fig, ax = plt.subplots()\n",
    "    fig.suptitle('Swiss unemployment ratio compared to the rest of europe', fontsize=20)\n",
    "    fig.set_size_inches(12, 10)\n",
    "    \n",
    "    # Define the variables\n",
    "    N = 5\n",
    "    ind = np.arange(number_bars)\n",
    "    width = 0.5\n",
    "    vals = df.head(number_bars)[column_name]\n",
    "    \n",
    "    # Setting colors of the regions/countries\n",
    "    df = df.set_index(['Country'])\n",
    "    # Using cm to construct colors of the length of diff_colors\n",
    "    colors = cm.rainbow(np.linspace(0, 1, len(diff_colors)+1))\n",
    "    colorlist = colorlist = [colors[0]] * df.shape[0]\n",
    "    \n",
    "    # Map the different regions to location in dataframe to get the right colors assosiated with the diff countries\n",
    "    for c_ind, region in enumerate(diff_colors):\n",
    "        colorlist[df.index.get_loc(region)] = colors[c_ind+1]\n",
    "    \n",
    "    # Plot the data\n",
    "    ax.barh(ind, vals, width, color=colorlist, align='center')\n",
    "    \n",
    "    # Set labels and ticks\n",
    "    ax.set_xlabel('Unemployment ratio in (%)', fontsize=20)\n",
    "    ax.set_ylabel('Countries/Regions', fontsize=20)\n",
    "    ax.set_yticks(np.arange(number_bars))\n",
    "    ax.set_yticklabels(y_ticks_label, fontsize=12)\n",
    "    \n",
    "    # Values read top-to-bottom by default\n",
    "    ax.invert_yaxis()\n",
    "    # Show grid to easier evaluate data\n",
    "    ax.xaxis.grid()\n",
    "\n",
    "    plt.show()"
   ]
  },
  {
   "cell_type": "code",
   "execution_count": null,
   "metadata": {},
   "outputs": [],
   "source": [
    "# Include the unemployment combined numbers for the EU nations\n",
    "df_final = pd.concat([df_final,df_european_unemployement.iloc[[0]]])\n",
    "df_final.drop_duplicates(inplace=True)\n",
    "\n",
    "# Sort the dataframe after Uemployment rate so it is easier to do comparison between the countries\n",
    "df_final = df_final.sort_values(by='2016 Unemployement Rate', ascending=False)\n",
    "\n",
    "# Making the switzerland and EU stand out with colors in the histogram\n",
    "countries_diff_color = ['Switzerland', 'European Union (28 countries)']\n",
    "\n",
    "# Plot the histogram\n",
    "plot_bars('2016 Unemployement Rate', len(df_final), df_final, df_final.Country, ['Switzerland', 'European Union (28 countries)'])"
   ]
  },
  {
   "cell_type": "markdown",
   "metadata": {
    "collapsed": true
   },
   "source": [
    "#### Comment: \n",
    "As shown by the bar plot above, we note that the unemployment rate of Switzerland in 2016 is generally lower than the unemployement rate of the european countries. One can also see the average Unemployment rate of the European Union. Again remember that there are over 20 other countries not included in these numbers. Mostly smaller sovereign principalities like Monaco and Andorra, some slavic countries in eastern europe and some jugoslavian countries.\n",
    "\n",
    "PS: not all these countries are in the EU like Iceland and Norway that have very low Unemployment ratios."
   ]
  },
  {
   "cell_type": "markdown",
   "metadata": {},
   "source": [
    "# Question 2"
   ]
  },
  {
   "cell_type": "markdown",
   "metadata": {},
   "source": [
    "**********\n",
    "Go to the amstat website to find a dataset that includes the unemployment rates in Switzerland at a recent date.\n",
    "\n",
    "HINT Go to the details tab to find the raw data you need. If you do not speak French, German or Italian, think of using free translation services to navigate your way through.\n",
    "\n",
    "Use this data to build another Choropleth map, this time showing the unemployment rate at the level of swiss cantons. Again, try to make the map as expressive as possible, and comment on the trends you observe.\n",
    "\n",
    "The Swiss Confederation defines the rates you have just plotted as the number of people looking for a job divided by the size of the active population (scaled by 100). This is surely a valid choice, but as we discussed one could argue for a different categorization.\n",
    "\n",
    "Copy the map you have just created, but this time don't count in your statistics people who already have a job and are looking for a new one. How do your observations change ? You can repeat this with different choices of categories to see how selecting different metrics can lead to different interpretations of the same data.\n",
    "**********"
   ]
  },
  {
   "cell_type": "markdown",
   "metadata": {},
   "source": [
    "### Import data and create a dataframe\n",
    "We go to :  https://www.amstat.ch/v2/index.jsp and download the informations of unemployment rate at the level of swiss cantons and the statistics people who already have a job and are looking for a new one. We try to download the file in German to get the german names of the cantons to match the names in the topojson file.  \n",
    "We get an excel file.  \n",
    "\n",
    "The Cambridge Dictionary defines the active population to be \"the people in a country or area who normally work and earn money\".   \n",
    "We considered the Unemployement Rate from amstat to be the Number of people without a job divided by the Active Population times 100. The homework definition of Unemployement Rate wasn't clear and did not seem relevant. We sticked to what we found on the amstat description. We Create and Analyze the Jobseeking rate to be the number of People searching for a job(currently with or without a job)."
   ]
  },
  {
   "cell_type": "code",
   "execution_count": null,
   "metadata": {},
   "outputs": [],
   "source": [
    "# Import the excel file and call it xls_file\n",
    "xls_file = pd.ExcelFile('Data/amstat_DE.xlsx')\n",
    "initial2_df = xls_file.parse()\n",
    "\n",
    "#display the head of the dataframe\n",
    "display(initial2_df.head())"
   ]
  },
  {
   "cell_type": "markdown",
   "metadata": {},
   "source": [
    "From the Dataframe above we now :  \n",
    "- extract our relevant data  \n",
    "- calculate the number of active population for each canton :  \n",
    "        (NB Unemployed/Unemployement Rate) *100\n",
    "- calculate the JobSeeker Rate which is the percentage of people seeking for a job:  \n",
    "        (NB Job Seek/Active Population) * 100\n",
    "- clean our data to get a nice cute dataframe  \n",
    "- Add the ID for every Canton by hand because the display of the map with the ID will be easier than for the name   "
   ]
  },
  {
   "cell_type": "code",
   "execution_count": null,
   "metadata": {},
   "outputs": [],
   "source": [
    "#Rename the useful columns\n",
    "df2 = initial2_df.copy()\n",
    "df2.rename(columns={'Unnamed: 2':'Unemployement Rate','Unnamed: 3':'Nb Unemployed','Unnamed: 4':'Job Seeker'}, inplace=True)\n",
    "df2.rename(columns={'2.1 Arbeitslosenquoten':'Canton'},inplace=True)\n",
    "#Keep the useful culumns\n",
    "df2 = df2[['Canton','Unemployement Rate','Nb Unemployed','Job Seeker']]\n",
    "\n",
    "#keep the Unemployement rate in a dataframe\n",
    "df_swiss_unemployement = df2[df2.Canton=='Total']\n",
    "\n",
    "# Find the number of the active population for avery row \n",
    "df2_final = df2[3:29].copy()\n",
    "df2_final['Active Population'] = round(pd.to_numeric(df2_final['Nb Unemployed']).div(pd.to_numeric(df2_final['Unemployement Rate']))*100)\n",
    "#then we calculate the number of people looking for a job divided by the size of the active population (scaled by 100).\n",
    "# We call it JobSeeker Rate\n",
    "df2_final['JobSeeker Rate'] = round(pd.to_numeric(df2_final['Job Seeker']).div(pd.to_numeric(df2_final['Active Population']))*100,1)\n",
    "# convert unemployement rate as float\n",
    "df2_final['Unemployement Rate']=df2_final['Unemployement Rate'].astype(float)\n",
    "\n",
    "#Create RostiData to use it in the BONUS \n",
    "RostiData = df2_final.copy()\n",
    "\n",
    "df2_final = df2_final[['Canton','Unemployement Rate','JobSeeker Rate']]\n",
    "#We create a column with the ID of every cantons to use it in the graph\n",
    "df2_final['ID']=['ZH','BE','LU','UR','SZ','OW','NW','GL','ZG','FR','SO','BS','BL','SH','AR','AI','SG','GR','AG','TG','TI','VD','VS','NE','GE','JU']\n",
    "df2_final = df2_final.reset_index(drop=True)\n",
    "\n",
    "display(df2_final.head())"
   ]
  },
  {
   "cell_type": "markdown",
   "metadata": {},
   "source": [
    "### Import data and create another dataframe with age classes   \n",
    "Now that we have our data we search for the data with AGE CLASSES. To do so we download another excel file from amstat with the age class. We will get three :  \n",
    "  - 15-24\n",
    "  - 25-49\n",
    "  - 50+\n",
    "\n",
    "We Do the same work on this datas that above for the whole population. We will fin the Job seeker Rate and Unemployement Rate for every canton and every Age Class(see the explanation for the part above)"
   ]
  },
  {
   "cell_type": "code",
   "execution_count": null,
   "metadata": {},
   "outputs": [],
   "source": [
    "# Import the excel file and call it xls_file\n",
    "xls_file = pd.ExcelFile('Data/amstat_infos.xlsx')\n",
    "initial_age_df = xls_file.parse()\n",
    "\n",
    "#Rename the useful columns\n",
    "swiss_age = initial_age_df.copy()\n",
    "swiss_age.rename(columns={'Unnamed: 2':'Age Class','Unnamed: 4':'Unemployement Rate','Unnamed: 5':'Nb Unemployed','Unnamed: 6':'Job Seeker'}, inplace=True)\n",
    "swiss_age.rename(columns={'2.1 Taux de chômage':'Canton'},inplace=True)\n",
    "#Keep the useful culumns\n",
    "swiss_age = swiss_age[['Canton','Age Class','Unemployement Rate','Nb Unemployed','Job Seeker']]\n",
    "\n",
    "#keep the Unemployement rate in a dataframe\n",
    "df_swiss_unemployement_age = swiss_age[swiss_age.Canton=='Total']\n",
    "\n",
    "# Find the number of the active population for avery row \n",
    "swiss_age = swiss_age[3:81].copy()\n",
    "swiss_age['Active Population'] = round(pd.to_numeric(swiss_age['Nb Unemployed']).div(pd.to_numeric(swiss_age['Unemployement Rate']))*100)\n",
    "#then we calculate the number of people looking for a job divided by the size of the active population (scaled by 100).\n",
    "# We call it JobSeeker Rate\n",
    "swiss_age['JobSeeker Rate'] = round(pd.to_numeric(swiss_age['Job Seeker']).div(pd.to_numeric(swiss_age['Active Population']))*100,1)\n",
    "swiss_age['Unemployement Rate']=swiss_age['Unemployement Rate'].astype(float)\n",
    "\n",
    "#Keep the relevant Datas\n",
    "swiss_age = swiss_age[['Canton','Age Class','Unemployement Rate','JobSeeker Rate']]\n",
    "swiss_age = swiss_age.reset_index(drop=True)\n",
    "display(swiss_age.head())"
   ]
  },
  {
   "cell_type": "markdown",
   "metadata": {},
   "source": [
    "We change the dataframe to have all the datas from one Canton on ONE row"
   ]
  },
  {
   "cell_type": "code",
   "execution_count": null,
   "metadata": {},
   "outputs": [],
   "source": [
    "#Copy the datafram swiss_age into a new one to be able to launch this cell again and again.\n",
    "Swiss_age = swiss_age.copy()\n",
    "#Iterate over the dataframe\n",
    "for i in Swiss_age.index : \n",
    "    if (Swiss_age.loc[i, 'Age Class'] == '15-24 ans') :\n",
    "        #update the line\n",
    "        Swiss_age.loc[i,'15-24_Unemp'] = Swiss_age.loc[i,'Unemployement Rate']\n",
    "        Swiss_age.loc[i,'15-24_JobSeek'] = Swiss_age.loc[i,'JobSeeker Rate']\n",
    "    elif (swiss_age.loc[i,'Age Class'] == '25-49 ans'):\n",
    "        #Because we want all the data on the same line, we need to put it at i-1 \n",
    "        Swiss_age.loc[i-1,'25-49_Unemp'] = Swiss_age.loc[i,'Unemployement Rate']\n",
    "        Swiss_age.loc[i-1,'25-49_JobSeek'] = Swiss_age.loc[i,'JobSeeker Rate']\n",
    "    else :\n",
    "        #Same case here, we want our data on the first line of the cantons, hence the i-2\n",
    "        Swiss_age.loc[i-2,'50+_Unemp'] = Swiss_age.loc[i,'Unemployement Rate'] \n",
    "        Swiss_age.loc[i-2,'50+_JobSeek'] = Swiss_age.loc[i,'JobSeeker Rate']\n",
    "#We only want to keep every first row for each canton, so we take out the rest \n",
    "Swiss_age = Swiss_age.take(list(list(range(76))[::3]))\n",
    "\n",
    "#Getting rid of the rows we do not want. \n",
    "Swiss_age = Swiss_age.drop(['Age Class', 'Unemployement Rate', 'JobSeeker Rate'], axis=1)\n",
    "\n",
    "#Because some items were deleting, we must reset the index\n",
    "Swiss_age = Swiss_age.reset_index(drop=True)\n",
    "\n",
    "#Get the ID for every Canton\n",
    "Swiss_age['ID']=['ZH','BE','LU','UR','SZ','OW','NW','GL','ZG','FR','SO','BS','BL','SH','AR','AI','SG','GR','AG','TG','TI','VD','VS','NE','GE','JU']\n",
    "\n",
    "display(Swiss_age.head())"
   ]
  },
  {
   "cell_type": "markdown",
   "metadata": {},
   "source": [
    "### DISPLAY THE RESULTS\n",
    "First we display the map of Switzerland canton with the Job Seeker Rate. We use a similar technic than for the exercice one but this time we try to go further. To do so we use a fonction from folium call LayerControl()  \n",
    "We display different layers on the map.  \n"
   ]
  },
  {
   "cell_type": "code",
   "execution_count": null,
   "metadata": {},
   "outputs": [],
   "source": [
    "def create_linear_thresholds(list_of_columns):\n",
    "    \"\"\"\n",
    "    create a common linear threshold between the lowest registered value and the highest value across datasets.\n",
    "    Return a list of threshold with linear spacing\n",
    "    \"\"\"\n",
    "    # initialize the min and max\n",
    "    temp_min = min(df2_final[list_of_columns[0]])\n",
    "    temp_max = max(df2_final[list_of_columns[0]])\n",
    "\n",
    "    for column in list_of_columns[1:]:\n",
    "        if min(Swiss_age[column]) < temp_min : temp_min = min(Swiss_age[column])\n",
    "        if max(Swiss_age[column]) > temp_max : temp_max = max(Swiss_age[column])\n",
    "            \n",
    "    thresholds = list(np.linspace(temp_min-0.001, temp_max+0.001, num=6, endpoint=True))\n",
    "    print(thresholds)\n",
    "    return thresholds\n",
    "\n",
    "def create_choropleth(s_map, name, data, second_column):\n",
    "    \"\"\"\n",
    "    This function create a choropleth map\n",
    "    \"\"\"\n",
    "    #load the topojson of the switzerland cantons\n",
    "    swiss_geo_path = 'topojson/ch-cantons.topojson.json'\n",
    "    swiss_json_data = open(swiss_geo_path)\n",
    "    \n",
    "    #create the chorpleth layer for the map\n",
    "    s_map.choropleth(geo_data=swiss_json_data,\n",
    "                    data=data,name=name,\n",
    "                    columns=['ID',second_column],\n",
    "                    key_on='feature.id',topojson='objects.cantons',\n",
    "                    fill_color='BuPu', fill_opacity=0.8, line_opacity=0.2,\n",
    "                    legend_name= name+' in (%)',\n",
    "                    threshold_scale=threshold_list)\n",
    "    \n",
    "    return s_map\n",
    "\n",
    "# Create common linear threshold for the jobseeker datasets\n",
    "# The minimal value will be in df2_final(\"Unemployment Rate\") while the highest will be in the Swiss_age(15-24_JobSeek)\n",
    "threshold_list = create_linear_thresholds(['Unemployement Rate','15-24_JobSeek','25-49_JobSeek','50+_JobSeek',\n",
    "                                           '15-24_Unemp','25-49_Unemp'])"
   ]
  },
  {
   "cell_type": "code",
   "execution_count": null,
   "metadata": {
    "scrolled": true
   },
   "outputs": [],
   "source": [
    "#build a blank map of the europe\n",
    "m_swiss = folium.Map([46.7,8], tiles='cartodbpositron', zoom_start=7.5)\n",
    "\n",
    "#create different layers of cloropleth for the map m_swiss\n",
    "m_swiss = create_choropleth(m_swiss, 'TOTAL Job Seeker Rate', df2_final, 'JobSeeker Rate')\n",
    "m_swiss = create_choropleth(m_swiss, 'Age:15-24 Job Seeker Rate', Swiss_age, '15-24_JobSeek')\n",
    "m_swiss = create_choropleth(m_swiss, 'Age:25-49 Job Seeker Rate', Swiss_age, '25-49_JobSeek')\n",
    "m_swiss = create_choropleth(m_swiss, 'Age:50+ Job Seeker Rate', Swiss_age, '50+_JobSeek')\n",
    "\n",
    "#create a symbol that make you able to turn ON and OFF the different layers\n",
    "folium.LayerControl().add_to(m_swiss)\n",
    "\n",
    "#display the map with the different layers\n",
    "m_swiss"
   ]
  },
  {
   "cell_type": "markdown",
   "metadata": {},
   "source": [
    "##### INSTRUCTIONS TO USE THE MAP : \n",
    "##### On the top right corner you see a little box. Put your mouse on it to manipulate the different Layers\n",
    "##### Choose your age class or the Total. But select only on of the four layer otherwise the Colors will be compromise"
   ]
  },
  {
   "cell_type": "markdown",
   "metadata": {},
   "source": [
    "We now display the map of unemployement Rate"
   ]
  },
  {
   "cell_type": "code",
   "execution_count": null,
   "metadata": {
    "scrolled": true
   },
   "outputs": [],
   "source": [
    "#build a blank map of the europe\n",
    "m_swiss2 = folium.Map([46.7,8], tiles='cartodbpositron', zoom_start=7.5)\n",
    "\n",
    "#create different layers of cloropleth for the map m_swiss\n",
    "m_swiss2 = create_choropleth(m_swiss2, 'TOTAL Unemployement Rate', df2_final, 'Unemployement Rate')\n",
    "m_swiss2 = create_choropleth(m_swiss2, 'Age:15-24 Unemployement Rate', Swiss_age, '15-24_Unemp')\n",
    "m_swiss2 = create_choropleth(m_swiss2, 'Age:25-49 Unemployement Rate', Swiss_age, '25-49_Unemp')\n",
    "m_swiss2 = create_choropleth(m_swiss2, 'Age:50+ Unemployement Rate', Swiss_age, '50+_Unemp')\n",
    "\n",
    "#create a symbol that make you able to turn ON and OFF the different layers\n",
    "folium.LayerControl().add_to(m_swiss2)\n",
    "\n",
    "#display the map with the different layers\n",
    "m_swiss2\n"
   ]
  },
  {
   "cell_type": "markdown",
   "metadata": {},
   "source": [
    "#### Explaining our choices in visualization:\n",
    "- Why we used the same linear thresholds for jobseeker and unemployment\n",
    "    - By using the same threshold it is easier to compare intuitively compare the numbers between the jobseeker map and the unemployment map. If they had different threshold the colours would be connected to another scale. The disadvantage is that one potentially don't use the whole scale. We chose to use linear thresholds since it would be nonsensical to use thresholds based on quantiles. Since we are working on different distributions of number it wouldn't make any sense unless we did separate from each one\n",
    "- Why we choose to use layers to visualize the difference different ages\n",
    "    - We chose to use layers to because it is easier to see differences when switching the layer and the image is still. Much better for comparing the same canton and the individual changes.\n",
    "- We wanted float threshold instead of integers\n",
    "    - The folium library has its limitations. If you don't define a threshold_scale in choropleth then you get nice thresholds with decimals. But if you define your threshold that is not an opportunity. We would love for it to be linear. Now that it is not linear the spacing between the threshold is in the range of 1 to 2, which is a big difference. This makes the viewer very dependant on checking the thresholds on the legend to really understand the colouring.\n",
    "- why we choose \"BuPu\" colour gradient\n",
    "    - We started with having an 'OrRd' colour gradient. We thought the red would be a good indicator of negative effect. But we had trouble differentiating very strong red colours and therefore used \"BuPu\" which is much better for differentiating similar colours. \n",
    "\n",
    "#### Comments on data:\n",
    "- One can clearly see that it is a trend that the western part of Switzerland both has higher unemployment and jobseeking rates. Even though a map is not the best visualization tool to make conclusion about correlation, there is clearly a correlation between unemployment and jobseekers\n",
    "- COMMENT THE TRENDS"
   ]
  },
  {
   "cell_type": "markdown",
   "metadata": {
    "collapsed": true
   },
   "source": [
    "# QUESTION 3"
   ]
  },
  {
   "cell_type": "markdown",
   "metadata": {},
   "source": [
    "**********  \n",
    "Use the amstat website again to find a dataset that includes the unemployment rates in Switzerland at recent date, this time making a distinction between Swiss and foreign workers.\n",
    "\n",
    "The Economic Secretary (SECO) releases a monthly report on the state of the employment market. In the latest report (September 2017), it is noted that there is a discrepancy between the unemployment rates for foreign (5.1%) and Swiss (2.2%) workers.\n",
    "\n",
    "Show the difference in unemployment rates between the two categories in each canton on a Choropleth map (hint The easy way is to show two separate maps, but can you think of something better ?). Where are the differences most visible ? Why do you think that is ?\n",
    "\n",
    "Now let's refine the analysis by adding the differences between age groups. As you may have guessed it is nearly impossible to plot so many variables on a map. Make a bar plot, which is a better suited visualization tool for this type of multivariate data.\n",
    "**********"
   ]
  },
  {
   "cell_type": "markdown",
   "metadata": {},
   "source": [
    "### Differences between Foreign Unemployment rate and Swiss Unemployement rate for each Canton\n",
    "\n",
    "Once again we go to the amstat website. This time we download the unemployement rate by canton for foreign and swiss workers.  \n",
    "We then create a dataframe with :  \n",
    " - Foreign Unemployement Rate  \n",
    " - Swiss Unemployement Rate  \n",
    " - The difference bewtween both rates :\n",
    "         diff = ForeignRate-SwissRate  \n",
    " - The ID for each canton"
   ]
  },
  {
   "cell_type": "code",
   "execution_count": null,
   "metadata": {},
   "outputs": [],
   "source": [
    "# Import the excel file and call it xls_file\n",
    "xls_file = pd.ExcelFile('Data/amstat_foreign.xlsx')\n",
    "initial_foreign_df = xls_file.parse()\n",
    "\n",
    "#Rename the useful columns\n",
    "swiss_foreign = initial_foreign_df.copy()\n",
    "swiss_foreign.rename(columns={'Unnamed: 1':'Nationality','Unnamed: 3':'Unemployement Rate'}, inplace=True)\n",
    "swiss_foreign.rename(columns={'2.1 Taux de chômage':'Canton'},inplace=True)\n",
    "#Keep the useful culumns\n",
    "swiss_foreign = swiss_foreign[['Canton','Nationality','Unemployement Rate']]\n",
    "#Keep the usful rows\n",
    "swiss_foreign = swiss_foreign[3:55]\n",
    "\n",
    "# Create two new columns in the dataframe one for the Foregin Rate and the other for the Swiss Rate\n",
    "for i in swiss_foreign.index:\n",
    "    if (swiss_foreign.loc[i,'Nationality']=='Etrangers'):\n",
    "        swiss_foreign.loc[i,'Foreign Rate'] = swiss_foreign.loc[i,'Unemployement Rate']\n",
    "    elif (swiss_foreign.loc[i,'Nationality']=='Suisses'):\n",
    "        swiss_foreign.loc[i-1,'Swiss Rate'] = swiss_foreign.loc[i,'Unemployement Rate']        \n",
    "# now we drop one row over 2\n",
    "swiss_foreign = swiss_foreign[swiss_foreign['Nationality']=='Etrangers']\n",
    "#keep the relevant columns\n",
    "swiss_foreign = swiss_foreign[['Canton','Foreign Rate','Swiss Rate']]\n",
    "\n",
    "#reset the index\n",
    "swiss_foreign = swiss_foreign.reset_index(drop = True)\n",
    "\n",
    "#Add a colum with the difference between Foreign rate and swiss rate annd add of the Canton's ID\n",
    "swiss_foreign['Diff']=pd.to_numeric(swiss_foreign['Foreign Rate'])-pd.to_numeric(swiss_foreign['Swiss Rate'])\n",
    "swiss_foreign['ID']=['ZH','BE','LU','UR','SZ','OW','NW','GL','ZG','FR','SO','BS','BL','SH','AR','AI','SG','GR','AG','TG','TI','VD','VS','NE','GE','JU']\n",
    "\n",
    "display(swiss_foreign.head())"
   ]
  },
  {
   "cell_type": "markdown",
   "metadata": {},
   "source": [
    "Display of the map with color corresponding to the differences between Foreign Unemployment rate and Swiss Unemployement rate for each Canton.  \n",
    "    We change the colors of the map this time because we display a differencrial rate. It is not a Real unemployement rate."
   ]
  },
  {
   "cell_type": "code",
   "execution_count": null,
   "metadata": {
    "scrolled": false
   },
   "outputs": [],
   "source": [
    "#build a blank map of Switzerland\n",
    "map_diff = folium.Map([46.7,8], tiles='cartodbpositron', zoom_start=7.5)\n",
    "\n",
    "#load the topojson of the switzerland cantons\n",
    "swiss_geo_path = 'topojson/ch-cantons.topojson.json'\n",
    "swiss_json_data = open(swiss_geo_path)\n",
    "\n",
    "#creation of the choropleth map\n",
    "map_diff.choropleth(geo_data=swiss_json_data,\n",
    "                    data=swiss_foreign,name='Difference between Foreign rate and swiss rate',\n",
    "                    columns=['ID','Diff'],\n",
    "                    key_on='feature.id',topojson='objects.cantons',\n",
    "                    fill_color='BuGn',fill_opacity=0.7, line_opacity=0.2,\n",
    "                    legend_name='Difference btw Foreign and swiss Uneployement Rate (%)')\n",
    "\n",
    "map_diff"
   ]
  },
  {
   "cell_type": "markdown",
   "metadata": {},
   "source": [
    "Since the map represents a difference it could have been negative numbers. In that case we would have displayed another color than green, to tend to the red. Shades of red for negative values could have helped to identify the diversity of the gap between foreign and national unemployment"
   ]
  },
  {
   "cell_type": "markdown",
   "metadata": {},
   "source": [
    "###  Refine the analysis by adding the differences between age groups\n",
    "We assumed that we are asked to to analyze the Unemployment Rate for the age classes regardless of the Nationality of the people. We searched thru amstat to get those informations depending on the nationality but we did not find anything.  \n",
    "We use the datas from exercice two with all the age classes for every Canton. We already showed a map above of the unemployement rate for every Age Class."
   ]
  },
  {
   "cell_type": "code",
   "execution_count": null,
   "metadata": {},
   "outputs": [],
   "source": [
    "# We display the dataframe with the unemployement rate for every age class\n",
    "display(Swiss_age.head())"
   ]
  },
  {
   "cell_type": "markdown",
   "metadata": {},
   "source": [
    "Now that the DataFrame has handiest shape to be used, we draw the barplot. To do so we take the total unemployment from the second question and add it to Swiss_age in order to be able to sort cantons by unemployment. Doing this will allow us to have a better overview of unemployment with respect to ages. \n",
    "\n",
    "In order to have a clearer visual, we divide the Swiss_age into 3 dataframes and process them separately. This will allow us to have a clearer display.\n",
    "To implement the barplot we specify some parameters at the begining and then use them throughout the project."
   ]
  },
  {
   "cell_type": "code",
   "execution_count": null,
   "metadata": {
    "collapsed": true
   },
   "outputs": [],
   "source": [
    "#We extract the total unemployment from the df2, from which we reset the index to avoid mismatches\n",
    "\n",
    "df2_final = df2_final.reset_index(drop=True)\n",
    "Swiss_age['Unemployment_tot'] = pd.to_numeric(df2_final['Unemployement Rate'])\n",
    "Swiss_age = Swiss_age.sort_values('Unemployment_tot', ascending=False)\n",
    "\n",
    "#We then need to reset the index in order to manipalte the data easily\n",
    "Swiss_age = Swiss_age.reset_index(drop=True)\n",
    "\n",
    "#The barplot would have been too big if we plotted it entirely, thus why\n",
    "#we divided the DataFrame into 3 parts and then display the results.\n",
    "\n",
    "Age1 = Swiss_age.loc[0:9]\n",
    "Age2 = Swiss_age.loc[10:15]\n",
    "Age3 = Swiss_age.loc[16:]\n",
    "\n",
    "#Defining a function to plot the 3 results.\n",
    "def Barploting(SubSwissAge):\n",
    "    #Establishing parameters for position and width that we will use all along. \n",
    "    pos = list(range(len(SubSwissAge['Canton']))) \n",
    "    width = 0.25\n",
    "        \n",
    "    # Creating the plot\n",
    "    fig, ax = plt.subplots(figsize=(20,10))    \n",
    "    #Defining the parameters\n",
    "    plt.bar(pos, \n",
    "            SubSwissAge['15-24_Unemp'], \n",
    "            width,\n",
    "            #Choosing the color:\n",
    "            color='#EE3224', \n",
    "            label=SubSwissAge['Canton']) \n",
    "    \n",
    "    #The position has to be further in order not to overlap the first bar\n",
    "    plt.bar([p + width for p in pos], \n",
    "            SubSwissAge['25-49_Unemp'], \n",
    "            width,\n",
    "            # Choosing the color:\n",
    "            color='#F78F1E', \n",
    "            label=SubSwissAge['Canton']) \n",
    "    \n",
    "    #The position is 2*width further to avoid overlapping\n",
    "    plt.bar([p + width*2 for p in pos], \n",
    "            SubSwissAge['50+_Unemp'], \n",
    "            width,\n",
    "            # Choosing the color:\n",
    "            color='#FFC222', \n",
    "            # with label the third value in first_name\n",
    "            label=SubSwissAge['Canton'])\n",
    "    \n",
    "    #Setting the labels\n",
    "    ax.set_xticklabels(SubSwissAge['Canton'])\n",
    "    #Setting the sizes of the labels\n",
    "    ax.set_xticks([p + 1.5 * width for p in pos])\n",
    "    ax.set_title('Unemployment rate per Canton [%]')\n",
    "    #We must set the scale of y, because we will show 3 graphs and to avoid misleading visualization, \n",
    "    #they should have the same scale\n",
    "    ax.set_ylim(0,7)\n",
    "    \n",
    "    # Adding the legend \n",
    "    plt.legend(['Age: 15-24', 'Age: 25-49', 'Age: 50+'], loc='upper left')\n",
    "    plt.show()\n",
    "    return "
   ]
  },
  {
   "cell_type": "markdown",
   "metadata": {},
   "source": [
    "We plot the results"
   ]
  },
  {
   "cell_type": "code",
   "execution_count": null,
   "metadata": {},
   "outputs": [],
   "source": [
    "#Plotting the results\n",
    "Barploting(Age1)\n",
    "Barploting(Age2)\n",
    "Barploting(Age3)"
   ]
  },
  {
   "cell_type": "markdown",
   "metadata": {},
   "source": [
    "One can notice that there are not too many difference between age classes. Apart from Tessin, other cantons do not seem to show any significant differences in terms of unemployment rate. We can even prove it using Pearson's correlation:"
   ]
  },
  {
   "cell_type": "code",
   "execution_count": null,
   "metadata": {},
   "outputs": [],
   "source": [
    "#Defining a name vector to visualize the data\n",
    "Names = ['15-24', '25-49', '50+']\n",
    "#Defining correlations\n",
    "Correlations = [Swiss_age['Unemployment_tot'].corr(Swiss_age['15-24_Unemp']),\n",
    "                    Swiss_age['Unemployment_tot'].corr(Swiss_age['25-49_Unemp']),\n",
    "                    Swiss_age['Unemployment_tot'].corr(Swiss_age['50+_Unemp'] )]\n",
    "UnemploymentCorr = pd.DataFrame(columns=[Names, Correlations]) \n",
    "\n",
    "print('Correlations between general unemployment and age categories:')\n",
    "display(UnemploymentCorr)"
   ]
  },
  {
   "cell_type": "markdown",
   "metadata": {},
   "source": [
    "#### Conclusion\n",
    "There is a strong correlation between the general unemployment in cantons and the value for the youngest part of the active population. However it is normal because the total is aggretated from the ages. Being the least correlated shows that in general on the Swiss labour market, youngters tend to more unemployed than the rest."
   ]
  },
  {
   "cell_type": "markdown",
   "metadata": {},
   "source": [
    "# 4. BONUS\n",
    "Our strategy is to consider cantons that are crossed by the Röstigraben as fully belonging to one side, and then we deal with expection further in our work.\n",
    "    1. Roughly aggregate the data for the Roman and German part\n",
    "    2. Deal with exceptions\n",
    "    3. Display results\n",
    "    \n",
    "To aggreagate the data from all the cantons, we use df2_final from question 2. We cloned the dataframe before removing all the raw data (total active population per canton, total unemployment per canton).\n",
    "\n",
    "Once we have the aggregate, we treat exceptions. We assume at first that Valais and Freiburg are part of Roman Switzerland, while Berne is considered as entirely German-speaking. We did such division because those region provide only one distric that belongs to the other side, which makes the data processing much simpler."
   ]
  },
  {
   "cell_type": "code",
   "execution_count": null,
   "metadata": {},
   "outputs": [],
   "source": [
    "#As it was extracted in the second excercise, we use the RostiData. \n",
    "\n",
    "#To extract the data per canton, we must reset the index to \"Canton\"\n",
    "RostiData = RostiData.set_index('Canton')\n",
    "\n",
    "#Putting all the Roman Cantons into a vector\n",
    "RomanSwiss = ['Jura', 'Genf', 'Neuenburg', 'Wallis', 'Freiburg', 'Waadt' ]\n",
    "\n",
    "#Getting the total active population and unemployed number, extract the number from RostiData\n",
    "RomanUnemployed = 0\n",
    "RomanActive = 0\n",
    "for i in RomanSwiss : \n",
    "    RomanUnemployed += RostiData.loc[i, 'Nb Unemployed']\n",
    "    RomanActive += RostiData.loc[i, 'Active Population']\n",
    "\n",
    "print(RomanUnemployed)\n",
    "print(RomanActive)\n",
    "\n",
    "#We can then compute the values for the German-speaking part, getting of the Tessin because it is not German-speaking\n",
    "GermanUnemployed = pd.to_numeric(RostiData['Nb Unemployed'].sum()) - RomanUnemployed - RostiData.loc['Tessin', 'Nb Unemployed']\n",
    "print(GermanUnemployed)\n",
    "GermanActive = RostiData['Active Population'].sum() - RomanActive  - RostiData.loc['Tessin', 'Active Population']\n",
    "print(GermanActive)"
   ]
  },
  {
   "cell_type": "markdown",
   "metadata": {},
   "source": [
    "Let's deal with the trickiest part, the cantons that are crossed by the Röstigraben. \n",
    "\n",
    "We have 3 cases to handle, because 3 cantons are crossed by the Röstigraben: Valais, Fribourg and Bern. \n",
    "One can notice that the subregions are not crossed by the Röstigraben, which is a property that we will take advantage of.\n",
    "\n",
    "#### Fribourg\n",
    "For Fribourg, the only German-speaking subregion is Singine. From the following document on the administration's website:\n",
    "\n",
    "http://www.fr.ch/spe/files/pdf95/infobulle_09_2017.pdf\n",
    "\n",
    "One can find that the number of unemployed is 335, and that the unemployement rate is 1.4 %\n",
    "\n",
    "The active population is expressed by round(335/0.014) = 23929 persons.\n",
    "\n"
   ]
  },
  {
   "cell_type": "code",
   "execution_count": null,
   "metadata": {
    "collapsed": true
   },
   "outputs": [],
   "source": [
    "#Defining variables:\n",
    "Singine_total_actpop = 23929\n",
    "Singine_total_unemployed = 335\n",
    "\n",
    "#Substracting this to the Roman part\n",
    "RomanActive = RomanActive - Singine_total_actpop\n",
    "RomanUnemployed = RomanUnemployed - Singine_total_unemployed\n",
    "\n",
    "#Adding it to the German part\n",
    "GermanActive = GermanActive + Singine_total_actpop\n",
    "GermanUnemployed = GermanUnemployed + Singine_total_unemployed"
   ]
  },
  {
   "cell_type": "markdown",
   "metadata": {},
   "source": [
    "#### Valais\n",
    "For Valais, only Haut-Valais belongs to the German-Speaking part. The following docuement provides us the data:\n",
    "\n",
    "https://www.vs.ch/documents/529400/3288791/Bulletin+statistique+septembre+2017/69e39158-6268-41f4-8a89-d8617d649661\n",
    "\n",
    "\n",
    "One can find that the number of unemployed is 368, and that the unemployement rate is 0.8 %\n",
    "\n",
    "The active population is expressed by round(368/0.008) = 46000 persons.\n"
   ]
  },
  {
   "cell_type": "code",
   "execution_count": null,
   "metadata": {
    "collapsed": true
   },
   "outputs": [],
   "source": [
    "HValais_total_actpop = 46000 \n",
    "HValais_total_unemployed = 368\n",
    "\n",
    "#Substracting this to the Roman part\n",
    "RomanActive = RomanActive - HValais_total_actpop\n",
    "RomanUnemployed = RomanUnemployed - HValais_total_unemployed\n",
    "\n",
    "#Adding it to the German part\n",
    "GermanActive = GermanActive + HValais_total_actpop\n",
    "GermanUnemployed = GermanUnemployed + HValais_total_unemployed"
   ]
  },
  {
   "cell_type": "markdown",
   "metadata": {},
   "source": [
    "#### Bern\n",
    "For Bern, only \"Berner Jura\" belongs to the French speaking part\n",
    "    One can find the data of this \"Arrondissement\" from the following website:\n",
    "http://www.vol.be.ch/vol/fr/index/arbeit/arbeitslosigkeit.assetref/dam/documents/portal/Medienmitteilungen/de/2017/10/2017-10-10-vk-tabelle-september.pdf\n",
    "\n",
    "One can find that the number of unemployed is 931, and that the unemployement rate is 3.4 %\n",
    "The active population is expressed by round(931/0.034) = 27382. persons."
   ]
  },
  {
   "cell_type": "code",
   "execution_count": null,
   "metadata": {},
   "outputs": [],
   "source": [
    "JuraBern_total_actpop = 27382\n",
    "JuraBern_total_unemployed = 931\n",
    "\n",
    "#Substracting the data to the German part\n",
    "GermanActive = GermanActive - JuraBern_total_actpop\n",
    "GermanUnemployed = GermanUnemployed - JuraBern_total_unemployed\n",
    "\n",
    "#Adding it to the Roman part \n",
    "RomanActive = RomanActive + JuraBern_total_actpop\n",
    "RomanUnemployed = RomanUnemployed + JuraBern_total_unemployed"
   ]
  },
  {
   "cell_type": "code",
   "execution_count": null,
   "metadata": {},
   "outputs": [],
   "source": [
    "#Computing the rates\n",
    "RomanRate = (RomanUnemployed/RomanActive)*100\n",
    "GermanRate = (GermanUnemployed/GermanActive)*100\n",
    "print(RomanRate)\n",
    "print(GermanRate)"
   ]
  },
  {
   "cell_type": "markdown",
   "metadata": {},
   "source": [
    "#### Displaying the map of unemployement \n",
    "We could not find any useful and efficient way to use JSON files to display the unemployement along the Röstigraben. One option we had was to roughly draw a line and then apply our data to it. However it seemed to imprecise to us. We chose to find a real map of the Röstigraben on the internet and we added our results manually. The website is the following:  \n",
    "             http://www.kleinreport.ch/news/rostigraben-soll-zum-kulturerbe-werden-79466/  \n",
    "               \n",
    "We are completely aware that this is by far not the best way to do it, especially after using those data visualization tools. However it remains the most accurate and the final visual is useful to understand the anwser to this question."
   ]
  },
  {
   "cell_type": "code",
   "execution_count": null,
   "metadata": {},
   "outputs": [],
   "source": [
    "display(Image(filename='Rosti_Map.png'))\n"
   ]
  },
  {
   "cell_type": "code",
   "execution_count": null,
   "metadata": {
    "collapsed": true
   },
   "outputs": [],
   "source": []
  }
 ],
 "metadata": {
  "anaconda-cloud": {},
  "kernelspec": {
   "display_name": "Python 3",
   "language": "python",
   "name": "python3"
  },
  "language_info": {
   "codemirror_mode": {
    "name": "ipython",
    "version": 3
   },
   "file_extension": ".py",
   "mimetype": "text/x-python",
   "name": "python",
   "nbconvert_exporter": "python",
   "pygments_lexer": "ipython3",
   "version": "3.6.2"
  }
 },
 "nbformat": 4,
 "nbformat_minor": 2
}
