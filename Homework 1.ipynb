{
 "cells": [
  {
   "cell_type": "markdown",
   "metadata": {},
   "source": [
    "# Table of Contents\n",
    " <p><div class=\"lev1\"><a href=\"#Task-1.-Compiling-Ebola-Data\"><span class=\"toc-item-num\">Task 1.&nbsp;&nbsp;</span>Compiling Ebola Data</a></div>\n",
    " <div class=\"lev1\"><a href=\"#Task-2.-RNA-Sequences\"><span class=\"toc-item-num\">Task 2.&nbsp;&nbsp;</span>RNA Sequences</a></div>\n",
    " <div class=\"lev1\"><a href=\"#Task-3.-Class-War-in-Titanic\"><span class=\"toc-item-num\">Task 3.&nbsp;&nbsp;</span>Class War in Titanic</a></div></p>"
   ]
  },
  {
   "cell_type": "code",
   "execution_count": null,
   "metadata": {
    "collapsed": true
   },
   "outputs": [],
   "source": [
    "# Imports\n",
    "%matplotlib inline\n",
    "import pandas as pd\n",
    "import numpy as np\n",
    "import matplotlib.pyplot as plt\n",
    "import webbrowser \n",
    "\n",
    "# Constants\n",
    "DATA_FOLDER = 'Data/'"
   ]
  },
  {
   "cell_type": "markdown",
   "metadata": {},
   "source": [
    "## Task 1. Compiling Ebola Data\n",
    "\n",
    "The `DATA_FOLDER/ebola` folder contains summarized reports of Ebola cases from three countries (Guinea, Liberia and Sierra Leone) during the recent outbreak of the disease in West Africa. For each country, there are daily reports that contain various information about the outbreak in several cities in each country.\n",
    "\n",
    "Use pandas to import these data files into a single `Dataframe`.\n",
    "Using this `DataFrame`, calculate for *each country*, the *daily average per month* of *new cases* and *deaths*.\n",
    "Make sure you handle all the different expressions for *new cases* and *deaths* that are used in the reports."
   ]
  },
  {
   "cell_type": "code",
   "execution_count": null,
   "metadata": {
    "collapsed": true
   },
   "outputs": [],
   "source": [
    "# Write your answer here"
   ]
  },
  {
   "cell_type": "markdown",
   "metadata": {},
   "source": [
    "## Task 2. RNA Sequences\n",
    "\n",
    "In the `DATA_FOLDER/microbiome` subdirectory, there are 9 spreadsheets of microbiome data that was acquired from high-throughput RNA sequencing procedures, along with a 10<sup>th</sup> file that describes the content of each. \n",
    "\n",
    "Use pandas to import the first 9 spreadsheets into a single `DataFrame`.\n",
    "Then, add the metadata information from the 10<sup>th</sup> spreadsheet as columns in the combined `DataFrame`.\n",
    "Make sure that the final `DataFrame` has a unique index and all the `NaN` values have been replaced by the tag `unknown`."
   ]
  },
  {
   "cell_type": "code",
   "execution_count": null,
   "metadata": {
    "collapsed": true
   },
   "outputs": [],
   "source": [
    "# Write your answer here"
   ]
  },
  {
   "cell_type": "markdown",
   "metadata": {},
   "source": [
    "## Task 3. Class War in Titanic\n",
    "\n",
    "Use pandas to import the data file `Data/titanic.xls`. It contains data on all the passengers that travelled on the Titanic."
   ]
  },
  {
   "cell_type": "markdown",
   "metadata": {},
   "source": [
    "## For each of the following questions state clearly your assumptions and discuss your findings:\n",
    "1. Describe the *type* and the *value range* of each attribute. Indicate and transform the attributes that can be `Categorical`. \n",
    "2. Plot histograms for the *travel class*, *embarkation port*, *sex* and *age* attributes. For the latter one, use *discrete decade intervals*. \n",
    "3. Calculate the proportion of passengers by *cabin floor*. Present your results in a *pie chart*.\n",
    "4. For each *travel class*, calculate the proportion of the passengers that survived. Present your results in *pie charts*.\n",
    "5. Calculate the proportion of the passengers that survived by *travel class* and *sex*. Present your results in *a single histogram*.\n",
    "6. Create 2 equally populated *age categories* and calculate survival proportions by *age category*, *travel class* and *sex*. Present your results in a `DataFrame` with unique index."
   ]
  },
  {
   "cell_type": "markdown",
   "metadata": {},
   "source": [
    "### Question 3.1\n",
    "\n",
    "##### Describe the *type* and the *value range* of each attribute. Indicate and transform the attributes that can be `Categorical`. \n",
    "\n",
    "Assumptions: \n",
    "    - \"For each exercise, please provide both a written explanation of the steps you will apply to manipulate the data, and the corresponding code.\" We assume that \"written explanation can come in the form of commented code as well as text\"\n",
    "    - We assume that we must not describe the value range of attributes that contain string as we dont feel the length of strings or ASCI-values don't give any insight"
   ]
  },
  {
   "cell_type": "code",
   "execution_count": null,
   "metadata": {},
   "outputs": [],
   "source": [
    "''' \n",
    "Here is a sample of the information in the titanic dataframe\n",
    "''' \n",
    "\n",
    "# Importing titanic.xls info with Pandas\n",
    "titanic = pd.read_excel('Data/titanic.xls')\n",
    "\n",
    "# printing only the 30 first and last rows of information\n",
    "print(titanic.head)"
   ]
  },
  {
   "cell_type": "code",
   "execution_count": null,
   "metadata": {},
   "outputs": [],
   "source": [
    "'''\n",
    "To describe the INTENDED values and types of the data we will show you the titanic.html file that was provided to us\n",
    "Notice:\n",
    "    - 'age' is of type double, so someone can be 17.5 years old, mostly used with babies that are 0.x years old\n",
    "    - 'cabin' is stored as integer, but it har characters and letters\n",
    "    - By this model, embarked is stored as an integer, witch has to be interpreted as the 3 different embarkation ports\n",
    "    - It says that 'boat' is stored as a integer even though it has spaces and letters, it should be stored as string\n",
    "    \n",
    "PS: it might be that the information stored as integer is supposed to be categorical data,\n",
    "        ...because they have a \"small\" amount of valid options\n",
    "''' \n",
    "\n",
    "# Display html info in Jupyter Notebook\n",
    "from IPython.core.display import display, HTML\n",
    "htmlFile = 'Data/titanic.html'\n",
    "display(HTML(htmlFile))\n"
   ]
  },
  {
   "cell_type": "code",
   "execution_count": null,
   "metadata": {},
   "outputs": [],
   "source": [
    "''' \n",
    "The default types of the data after import:\n",
    "Notice:\n",
    "    - the strings and characters are imported as objects\n",
    "    - 'survived' is imported as int instead of double (which is in our opinion better since it's only 0 and 1\n",
    "    - 'sex' is imported as object not integer because it is a string\n",
    "'''\n",
    "\n",
    "titanic.dtypes"
   ]
  },
  {
   "cell_type": "code",
   "execution_count": null,
   "metadata": {},
   "outputs": [],
   "source": [
    "''' \n",
    "Below you can see the value range of the different numerical values.\n",
    "\n",
    "name, sex, ticket, cabin, embarked, boat and home.dest is not included because they can't be quantified numerically.\n",
    "''' \n",
    "\n",
    "titanic.describe()"
   ]
  },
  {
   "cell_type": "code",
   "execution_count": null,
   "metadata": {},
   "outputs": [],
   "source": [
    "\n",
    "'''\n",
    "Additional information that is important to remember when manipulation the data\n",
    "is if/where there are NaN values in the dataset\n",
    "'''\n",
    "\n",
    "# This displays the number of NaN there is in different attributes\n",
    "print(pd.isnull(titanic).sum())\n",
    "\n",
    "'''\n",
    "Some of this data is missing while some is meant to describe 'No' or something of meaning.\n",
    "Example:\n",
    "    Cabin has 1014 NaN in its column, it might be that every passenger had a cabin and the data is missing.\n",
    "    Or it could mean that most passengers did not have a cabin or a mix. The displayed titanic.html file \n",
    "    give us some insight if it is correct. It says that there are 0 NaN in the column. This indicates that\n",
    "    there are 1014 people without a cabin. Boat has also 823 NaN's, while the titanic lists 0 NaN's. \n",
    "    It is probably because most of those who died probably weren't in a boat.\n",
    "'''"
   ]
  },
  {
   "cell_type": "code",
   "execution_count": null,
   "metadata": {},
   "outputs": [],
   "source": [
    "'''\n",
    "What attributes should be stored as categorical information?\n",
    "\n",
    "Categorical data is essentially 8-bit integers which means it can store up to 2^8 = 256 categories\n",
    "Benefit is that it makes memory usage lower and it has a performance increase in calculations.\n",
    "'''\n",
    "\n",
    "print('Number of unique values in... :')\n",
    "for attr in titanic:\n",
    "    print(\"   {attr}: {u}\".format(attr=attr, u=len(titanic[attr].unique())))"
   ]
  },
  {
   "cell_type": "code",
   "execution_count": null,
   "metadata": {},
   "outputs": [],
   "source": [
    "'''\n",
    "We think it will be smart to categorize: 'pclass', 'survived', 'sex', 'cabin', 'embarked' and 'boat'\n",
    "because they have under 256 categories and don't have a strong numerical value like 'age'\n",
    "'survived' is a bordercase because it might be more practical to work with integers in some settings\n",
    "'''\n",
    "\n",
    "# changing the attributes to categorical data\n",
    "titanic.pclass = titanic.pclass.astype('category')\n",
    "titanic.survived = titanic.survived.astype('category')\n",
    "titanic.sex = titanic.sex.astype('category')\n",
    "titanic.cabin = titanic.cabin.astype('category')\n",
    "titanic.embarked = titanic.embarked.astype('category')\n",
    "titanic.boat = titanic.boat.astype('category')\n",
    "\n",
    "#Illustrate the change by printing out the new types\n",
    "titanic.dtypes"
   ]
  },
  {
   "cell_type": "markdown",
   "metadata": {},
   "source": [
    "### Question 3.2\n",
    "###### \"Plot histograms for the *travel class*, *embarkation port*, *sex* and *age* attributes. For the latter one, use *discrete decade intervals*. \"\n",
    "\n",
    "assumptions: "
   ]
  },
  {
   "cell_type": "code",
   "execution_count": null,
   "metadata": {},
   "outputs": [],
   "source": [
    "\n",
    "#Plotting the ratio different classes(1st, 2nd and 3rd class) the passengers have\n",
    "pc = titanic.pclass.value_counts().sort_index().plot(kind='bar')\n",
    "pc.set_title('Travel classes')\n",
    "pc.set_ylabel('Number of passengers')\n",
    "pc.set_xlabel('Travel class')\n",
    "pc.set_xticklabels(('1st class', '2nd class', '3rd class'))\n",
    "plt.show(pc)\n",
    "\n",
    "#Plotting the amount of people that embarked from different cities(C=Cherbourg, Q=Queenstown, S=Southampton)\n",
    "em = titanic.embarked.value_counts().sort_index().plot(kind='bar')\n",
    "em.set_title('Ports of embarkation')\n",
    "em.set_ylabel('Number of passengers')\n",
    "em.set_xlabel('Port of embarkation')\n",
    "em.set_xticklabels(('Cherbourg', 'Queenstown', 'Southampton'))\n",
    "plt.show(em)\n",
    "\n",
    "#Plotting what sex the passengers are\n",
    "sex = titanic.sex.value_counts().plot(kind='bar')\n",
    "sex.set_title('Gender of the passengers')\n",
    "sex.set_ylabel('Number of Passengers')\n",
    "sex.set_xlabel('Gender')\n",
    "sex.set_xticklabels(('Female', 'Male'))\n",
    "plt.show(sex)\n",
    "\n",
    "#Plotting agegroup of passengers\n",
    "bins = [0,10,20,30,40,50,60,70,80]\n",
    "age_grouped = pd.DataFrame(pd.cut(titanic.age, bins))\n",
    "ag = age_grouped.age.value_counts().sort_index().plot.bar()\n",
    "ag.set_title('Age of Passengers ')\n",
    "ag.set_ylabel('Number of passengers')\n",
    "ag.set_xlabel('Age groups')\n",
    "plt.show(ag)\n"
   ]
  },
  {
   "cell_type": "markdown",
   "metadata": {},
   "source": [
    "### Question 3.3\n",
    "###### Calculate the proportion of passengers by *cabin floor*. Present your results in a *pie chart*.\n",
    "\n",
    "assumptions: \n",
    "    - Because we are tasked with categorizing persons by the floor of their cabin it was problematic that you had cabin input: \"F E57\" and \"F G63\". There were only 7 of these instances with conflicting cabinfloors. We also presumed that the was a floor \"T\". Even though there was only one instance, so it might have been a typo."
   ]
  },
  {
   "cell_type": "code",
   "execution_count": null,
   "metadata": {},
   "outputs": [],
   "source": [
    "#Parsing the cabinfloor, into floors A, B, C, D, E, F, G, T, E&F, F&G, No Cabin\n",
    "\n",
    "cabin_floors = titanic.cabin.dropna()\n",
    "cabin_floors = cabin_floors.str.replace(r'[\\d ]+', '') #removes digits and spaces\n",
    "cabin_floors = cabin_floors.str.replace(r'(.)(?=.*\\1)', '') #removes duplicate letters and leave unique (CC -> C) (FG -> G)\n",
    "\n",
    "cabin_floors = cabin_floors.str.replace(r'([A-Z]{1})\\w+', 'NaN' ) #removes ambigous data from the dataset (FE -> NaN)(FG -> NaN)\n",
    "\n",
    "# Removing NaN's from the plotting\n",
    "cabin_floors = cabin_floors.cat.remove_categories('NaN')\n",
    "cabin_floors = cabin_floors.dropna()\n",
    "\n",
    "# Preparing data for plt.pie\n",
    "numberOfCabinPlaces = cabin_floors.count()\n",
    "grouped = cabin_floors.groupby(cabin_floors).count()\n",
    "sizes = np.array(grouped)\n",
    "labels = np.array(grouped.index)\n",
    "\n",
    "plt.pie(sizes, labels=labels, autopct='%1.1f%%', pctdistance=0.75, labeldistance=1.1)\n",
    "print(\"There are {cabin} passengers that have cabins and {nocabin} passengers without a cabin\".format(cabin=numberOfCabinPlaces, nocabin=(len(titanic) - numberOfCabinPlaces)))\n",
    "True"
   ]
  },
  {
   "cell_type": "markdown",
   "metadata": {},
   "source": [
    "### Question 3.4\n",
    "###### For each *travel class*, calculate the proportion of the passengers that survived. Present your results in *pie charts*.\n",
    "\n",
    "assumptions: "
   ]
  },
  {
   "cell_type": "code",
   "execution_count": null,
   "metadata": {},
   "outputs": [],
   "source": [
    "def survivedPerClass(pclass):\n",
    "    survived = len(titanic.survived[titanic.survived == 1][titanic.pclass == pclass])\n",
    "    died = len(titanic.survived[titanic.survived == 0][titanic.pclass == pclass])\n",
    "    return [survived, died]\n",
    "\n",
    "\n",
    "the_grid = plt.GridSpec(1, 3)\n",
    "labels = [\"Survived\", \"Died\"]\n",
    "\n",
    "# Each iteration plots a pie chart\n",
    "for p in titanic.pclass.unique():\n",
    "    sizes = survivedPerClass(p)\n",
    "    plt.subplot(the_grid[0, p-1], aspect=1 )\n",
    "    plt.pie(sizes, labels=labels, autopct='%1.1f%%')\n",
    "    \n",
    "plt.show()"
   ]
  },
  {
   "cell_type": "markdown",
   "metadata": {},
   "source": [
    "### Question 3.5\n",
    "##### \"Calculate the proportion of the passengers that survived by travel class and sex. Present your results in a single histogram.\"\n",
    "\n",
    "assumptions: \n",
    "    1. By \"proportions\" We assume it is a likelyhood-percentage of surviving"
   ]
  },
  {
   "cell_type": "code",
   "execution_count": null,
   "metadata": {},
   "outputs": [],
   "source": [
    "#change survived from int to boolean data\n",
    "titanic.survived = titanic.survived.astype(bool)\n",
    "survivalrate = titanic.groupby(['pclass', 'sex', 'survived']).size()\n",
    "\n",
    "\n",
    "survivalpercentage = survivalrate.groupby(level=['pclass', 'sex']).apply(lambda x: x / x.sum() * 100)\n",
    "\n",
    "histogram = survivalpercentage.filter(like='True', axis=0).plot(kind='bar')\n",
    "histogram.set_title('Proportion of the passengers that survived by travel class and sex')\n",
    "histogram.set_ylabel('Percent likelyhood of surviving titanic')\n",
    "histogram.set_xlabel('class/gender group')\n",
    "plt.show(histogram)"
   ]
  },
  {
   "cell_type": "markdown",
   "metadata": {},
   "source": [
    "### Question 3.6\n",
    "##### \"Create 2 equally populated age categories and calculate survival proportions by age category, travel class and sex. Present your results in a DataFrame with unique index.\"\n",
    "\n",
    "assumptions: \n",
    "1. By \"proportions\" we assume it is a likelyhood-percentage of surviving\n",
    "2. To create 2 equally populated age categories; we will find the median and round up from the median to nearest whole year difference before splitting."
   ]
  },
  {
   "cell_type": "code",
   "execution_count": null,
   "metadata": {},
   "outputs": [],
   "source": [
    "#drop NaN rows\n",
    "age_without_nan = titanic.age.dropna()\n",
    "\n",
    "#categorizing\n",
    "age_categories = pd.qcut(age_without_nan, 2, labels=[\"Younger\", \"Older\"])\n",
    "\n",
    "#Numbers to explain difference\n",
    "median = int(np.float64(age_without_nan.median()))\n",
    "amount = int(age_without_nan[median])\n",
    "print(\"The Median age is {median} years old\".format(median = median))\n",
    "print(\"and there are {amount} passengers that are {median} year old \\n\".format(amount=amount, median=median))\n",
    "\n",
    "print(age_categories.groupby(age_categories).count())\n",
    "print(\"\\nAs you can see the pd.qcut does not cut into entirely equal sized bins, because the age is of a discreet nature\")\n"
   ]
  },
  {
   "cell_type": "code",
   "execution_count": null,
   "metadata": {},
   "outputs": [],
   "source": [
    "#imported for the sake of surpressing some warnings\n",
    "import warnings\n",
    "warnings.filterwarnings('ignore')\n",
    "\n",
    "csas = titanic[['pclass', 'sex', 'age', 'survived']]\n",
    "csas.dropna(subset=['age'], inplace=True)\n",
    "csas['age_group'] = csas.age > csas.age.median()\n",
    "csas['age_group'] = csas['age_group'].map(lambda age_category: 'older' if age_category else \"younger\")\n",
    "\n",
    "# Converting to int to make it able to aggregate and give percentage\n",
    "csas.survived = csas.survived.astype(int)\n",
    "\n",
    "g_categories = csas.groupby(['pclass', 'age_group', 'sex'])\n",
    "result = pd.DataFrame(g_categories.survived.mean()).rename(columns={'survived': 'survived proportion'})\n",
    "\n",
    "# reset current index and spesify the unique index\n",
    "result.reset_index(inplace=True)\n",
    "unique_index = result.pclass.astype(str) + ': ' + result.age_group.astype(str) + ' ' + result.sex.astype(str)\n",
    "\n",
    "# Finalize the unique index dataframe\n",
    "result_w_unique = result[['survived proportion']]\n",
    "result_w_unique.set_index(unique_index, inplace=True)\n",
    "print(result_w_unique)\n"
   ]
  }
 ],
 "metadata": {
  "kernelspec": {
   "display_name": "Python 3",
   "language": "python",
   "name": "python3"
  },
  "language_info": {
   "codemirror_mode": {
    "name": "ipython",
    "version": 3
   },
   "file_extension": ".py",
   "mimetype": "text/x-python",
   "name": "python",
   "nbconvert_exporter": "python",
   "pygments_lexer": "ipython3",
   "version": "3.6.1"
  }
 },
 "nbformat": 4,
 "nbformat_minor": 2
}
