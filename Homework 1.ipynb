{
 "cells": [
  {
   "cell_type": "markdown",
   "metadata": {},
   "source": [
    "# Table of Contents\n",
    " <p><div class=\"lev1\"><a href=\"#Task-1.-Compiling-Ebola-Data\"><span class=\"toc-item-num\">Task 1.&nbsp;&nbsp;</span>Compiling Ebola Data</a></div>\n",
    " <div class=\"lev1\"><a href=\"#Task-2.-RNA-Sequences\"><span class=\"toc-item-num\">Task 2.&nbsp;&nbsp;</span>RNA Sequences</a></div>\n",
    " <div class=\"lev1\"><a href=\"#Task-3.-Class-War-in-Titanic\"><span class=\"toc-item-num\">Task 3.&nbsp;&nbsp;</span>Class War in Titanic</a></div></p>"
   ]
  },
  {
   "cell_type": "code",
   "execution_count": null,
   "metadata": {
    "collapsed": true
   },
   "outputs": [],
   "source": [
    "# Imports\n",
    "%matplotlib inline\n",
    "import pandas as pd\n",
    "import numpy as np\n",
    "import matplotlib.pyplot as plt\n",
    "import webbrowser \n",
    "\n",
    "# Constants\n",
    "DATA_FOLDER = 'Data/'"
   ]
  },
  {
   "cell_type": "markdown",
   "metadata": {},
   "source": [
    "## Task 1. Compiling Ebola Data\n",
    "\n",
    "The `DATA_FOLDER/ebola` folder contains summarized reports of Ebola cases from three countries (Guinea, Liberia and Sierra Leone) during the recent outbreak of the disease in West Africa. For each country, there are daily reports that contain various information about the outbreak in several cities in each country.\n",
    "\n",
    "Use pandas to import these data files into a single `Dataframe`.\n",
    "Using this `DataFrame`, calculate for *each country*, the *daily average per month* of *new cases* and *deaths*.\n",
    "Make sure you handle all the different expressions for *new cases* and *deaths* that are used in the reports."
   ]
  },
  {
   "cell_type": "code",
   "execution_count": null,
   "metadata": {
    "collapsed": true
   },
   "outputs": [],
   "source": [
    "# Write your answer here"
   ]
  },
  {
   "cell_type": "markdown",
   "metadata": {},
   "source": [
    "## Task 2. RNA Sequences\n",
    "\n",
    "In the `DATA_FOLDER/microbiome` subdirectory, there are 9 spreadsheets of microbiome data that was acquired from high-throughput RNA sequencing procedures, along with a 10<sup>th</sup> file that describes the content of each. \n",
    "\n",
    "Use pandas to import the first 9 spreadsheets into a single `DataFrame`.\n",
    "Then, add the metadata information from the 10<sup>th</sup> spreadsheet as columns in the combined `DataFrame`.\n",
    "Make sure that the final `DataFrame` has a unique index and all the `NaN` values have been replaced by the tag `unknown`."
   ]
  },
  {
   "cell_type": "code",
   "execution_count": null,
   "metadata": {
    "collapsed": true
   },
   "outputs": [],
   "source": [
    "# Write your answer here"
   ]
  },
  {
   "cell_type": "markdown",
   "metadata": {},
   "source": [
    "## Task 3. Class War in Titanic\n",
    "\n",
    "Use pandas to import the data file `Data/titanic.xls`. It contains data on all the passengers that travelled on the Titanic."
   ]
  },
  {
   "cell_type": "markdown",
   "metadata": {},
   "source": [
    "## For each of the following questions state clearly your assumptions and discuss your findings:\n",
    "1. Describe the *type* and the *value range* of each attribute. Indicate and transform the attributes that can be `Categorical`. \n",
    "2. Plot histograms for the *travel class*, *embarkation port*, *sex* and *age* attributes. For the latter one, use *discrete decade intervals*. \n",
    "3. Calculate the proportion of passengers by *cabin floor*. Present your results in a *pie chart*.\n",
    "4. For each *travel class*, calculate the proportion of the passengers that survived. Present your results in *pie charts*.\n",
    "5. Calculate the proportion of the passengers that survived by *travel class* and *sex*. Present your results in *a single histogram*.\n",
    "6. Create 2 equally populated *age categories* and calculate survival proportions by *age category*, *travel class* and *sex*. Present your results in a `DataFrame` with unique index."
   ]
  },
  {
   "cell_type": "code",
   "execution_count": null,
   "metadata": {
    "collapsed": true
   },
   "outputs": [],
   "source": [
    "'''\n",
    "## TODO:\n",
    "    - 3.1 Decide what should be categorical and fix dependencies\n",
    "    - 3.2 Plot some histograms on sex and age(discrete)\n",
    "    - 3.3 Maybe remove Cabin floor T because it looks bad and is not informative\n",
    "    - 3.4 It's slow and ugly...but it works\n",
    "    - 3.5 Make sure that I have visualized it the way they want\n",
    "    - 3.6 fix age groups and indexing\n",
    "'''"
   ]
  },
  {
   "cell_type": "code",
   "execution_count": null,
   "metadata": {
    "collapsed": true
   },
   "outputs": [],
   "source": [
    "#Dont really need this thing...\n",
    "\n",
    "#How to open a html file in the web browser\n",
    "url = 'file:///Users/havardbjornoy/EPFL_Jupyter/ADA/DataAnalysis/Data/titanic.html'\n",
    "#webbrowser.open(url, new=2)  # open in new tab"
   ]
  },
  {
   "cell_type": "code",
   "execution_count": null,
   "metadata": {
    "collapsed": true,
    "scrolled": false
   },
   "outputs": [],
   "source": [
    "# Display html info in Jupyter Notebook\n",
    "from IPython.core.display import display, HTML\n",
    "\n",
    "htmlFile = 'Data/titanic.html'\n",
    "#display(HTML(htmlFile))\n"
   ]
  },
  {
   "cell_type": "code",
   "execution_count": null,
   "metadata": {},
   "outputs": [],
   "source": [
    "# Importing titanic.xls info with Pandas\n",
    "\n",
    "titanic = pd.read_excel('Data/titanic.xls')\n",
    "print(titanic)"
   ]
  },
  {
   "cell_type": "code",
   "execution_count": null,
   "metadata": {},
   "outputs": [],
   "source": [
    "\n",
    "print(titanic.index)\n",
    "print\n",
    "print(titanic.headers)\n"
   ]
  },
  {
   "cell_type": "code",
   "execution_count": null,
   "metadata": {
    "collapsed": true
   },
   "outputs": [],
   "source": []
  },
  {
   "cell_type": "markdown",
   "metadata": {},
   "source": [
    "### Question 3.1\n",
    "\n",
    "##### Describe the *type* and the *value range* of each attribute. Indicate and transform the attributes that can be `Categorical`. \n",
    "\n",
    "Assumptions: \n",
    "1. We assume that all of these questions is in the context of the `Data/titanic.xls` file since you specified and that the html-file is just appendix for better understanding the data"
   ]
  },
  {
   "cell_type": "code",
   "execution_count": null,
   "metadata": {
    "collapsed": true
   },
   "outputs": [],
   "source": [
    "'''\n",
    "When should one categorise an object, is there a rule of thumb, ex. \"how many categories per. 1000 of data?\"\n",
    "\"Notice that these are 8-bit integers, which are essentially single bytes of data, making memory usage lower.\n",
    "There is also a performance benefit. Consider an operation such as calculating the total segment lengths for \n",
    "each ship in the segments table (this is also a preview of pandas' groupby operation!):\"\n",
    "\n",
    "8 bits = 256 categories max then?\n",
    "\n",
    "I would guess:\n",
    "pclass -> int  (ooor categorical)\n",
    "survived -> bool or int (ooor categorical)\n",
    "name -> string or obj\n",
    "sex -> bool or int  (ooor categorical)\n",
    "age -> double\n",
    "Number of Siblings/Spouses Aboard -> int\n",
    "Number of Parents/Children Aboard -> int\n",
    "Ticket Number -> string or obj\n",
    "Passenger Fare -> double\n",
    "cabin -> string or (list of int or strings)\n",
    "embarked -> categories instead of strings\n",
    "boat -> strings or (lists of strings or ints)\n",
    "body ID -> int\n",
    "home dest -> ?\n",
    "'''\n",
    "\n",
    "# from obj -> int\n",
    "#df['purchase'].astype(str).astype(int)\n",
    "\n",
    "# -> category\n",
    "titanic.embarked = titanic.embarked.astype('category')"
   ]
  },
  {
   "cell_type": "code",
   "execution_count": null,
   "metadata": {},
   "outputs": [],
   "source": [
    "titanic.embarked.describe()"
   ]
  },
  {
   "cell_type": "markdown",
   "metadata": {},
   "source": [
    "### Question 3.2\n",
    "###### Plot histograms for the *travel class*, *embarkation port*, *sex* and *age* attributes. For the latter one, use *discrete decade intervals*. \n",
    "\n",
    "assumptions: "
   ]
  },
  {
   "cell_type": "code",
   "execution_count": null,
   "metadata": {},
   "outputs": [],
   "source": [
    "#must add labels and rotate axis. And explain data\n",
    "\n",
    "#Plotting the ratio different classes(1st, 2nd and 3rd class) the passengers have\n",
    "pc = titanic.pclass.value_counts().plot(kind='bar')\n",
    "plt.show(pc)\n",
    "#Plotting the amount of people that embarked from different cities(S=Southampton, C=Cherbourg, Q=Queenstown)\n",
    "em = titanic.embarked.value_counts().plot(kind='bar')\n",
    "plt.show(em)\n",
    "\n",
    "############################################# Plotting stuff ##################################################\n",
    "'''\n",
    "cities =['C','Q','S']\n",
    "emAx = plt.axes()\n",
    "emAx.set_xticks(1 + (2 / 2))\n",
    "emAx.set_xticklabels(alphab)\n",
    "plt.bar(pos, frequencies, width, color='r')\n",
    "plt.show()\n",
    "\n",
    "\n",
    "ax0.hist(x, 20, normed=1, histtype='stepfilled', facecolor='g', alpha=0.75)\n",
    "ax0.set_title('stepfilled')\n",
    "\n",
    "# Create a histogram by providing the bin edges (unequally spaced).\n",
    "bins = [100, 150, 180, 195, 205, 220, 250, 300]\n",
    "ax1.hist(x, bins, normed=1, histtype='bar', rwidth=0.8)\n",
    "ax1.set_title('unequal bins')\n",
    "\n",
    "plt.title(\"Embarkation port\")\n",
    "plt.xlabel(\"Embarkation port\")\n",
    "plt.ylabel(\"number of embarkeders\")\n",
    "plt.show\n",
    "or\n",
    "titanic.embarked.hist()\n",
    "'''"
   ]
  },
  {
   "cell_type": "markdown",
   "metadata": {},
   "source": [
    "### Question 3.3\n",
    "###### Calculate the proportion of passengers by *cabin floor*. Present your results in a *pie chart*.\n",
    "\n",
    "assumptions: \n",
    "    - Because we are tasked with categorizing persons by the floor of their cabin it was problematic that you had cabin input: \"F E57\" and \"F G63\". There were only 7 of these instances with conflicting cabinfloors. We also presumed that the was a floor \"T\". Even though there was only one instance, so it might have been a typo."
   ]
  },
  {
   "cell_type": "code",
   "execution_count": null,
   "metadata": {},
   "outputs": [],
   "source": [
    "#Parsing the cabinfloor, into floors A, B, C, D, E, F, G, T, E&F, F&G, No Cabin\n",
    "\n",
    "cabin_floors = titanic.cabin.dropna()\n",
    "cabin_floors = cabin_floors.str.replace(r'[\\d ]+', '') #removes digits and spaces\n",
    "cabin_floors = cabin_floors.str.replace(r'(.)(?=.*\\1)', '') #removes duplicate letters and leave unique (CC -> C) (FG -> G)\n",
    "\n",
    "cabin_floors = cabin_floors.str.replace(r'([A-Z]{1})\\w+', 'NaN' ) #removes ambigous data from the dataset (FE -> NaN)(FG -> NaN)\n",
    "\n",
    "#temporary categorizing\n",
    "cabin_floors = cabin_floors.astype('category')\n",
    "cabin_floors = cabin_floors.cat.remove_categories('NaN')\n",
    "cabin_floors = cabin_floors.dropna()\n",
    "\n",
    "# Preparing data for plt.pie\n",
    "numberOfCabinPlaces = cabin_floors.count()\n",
    "grouped = cabin_floors.groupby(cabin_floors).count()\n",
    "sizes = np.array(grouped)\n",
    "labels = np.array(grouped.index)\n",
    "\n",
    "plt.pie(sizes, labels=labels, autopct='%1.1f%%', pctdistance=0.75, labeldistance=1.1)\n",
    "print(\"There are {cabin} passengers that have cabins and {nocabin} passengers without a cabin\".format(cabin=numberOfCabinPlaces, nocabin=(len(titanic) - numberOfCabinPlaces)))\n",
    "True"
   ]
  },
  {
   "cell_type": "markdown",
   "metadata": {},
   "source": [
    "### Question 3.4\n",
    "###### For each *travel class*, calculate the proportion of the passengers that survived. Present your results in *pie charts*.\n",
    "\n",
    "assumptions: "
   ]
  },
  {
   "cell_type": "code",
   "execution_count": null,
   "metadata": {},
   "outputs": [],
   "source": [
    "# This thing is superslow, not sure why, seems like it is the plotting\n",
    "%time\n",
    "# Temporary categorizing\n",
    "titanic.pclass = titanic.pclass.astype('category')\n",
    "\n",
    "def survivedPerClass(pclass):\n",
    "    survived = len(titanic.survived[titanic.survived == 1][titanic.pclass == pclass])\n",
    "    died = len(titanic.survived[titanic.survived == 0][titanic.pclass == pclass])\n",
    "    return [survived, died]\n",
    "\n",
    "\n",
    "the_grid = plt.GridSpec(1, 3)\n",
    "labels = [\"Survived\", \"Died\"]\n",
    "\n",
    "for p in titanic.pclass:\n",
    "    sizes = survivedPerClass(p)\n",
    "    plt.subplot(the_grid[0, p-1], aspect=1 )\n",
    "    plt.pie(sizes, labels=labels, autopct='%1.1f%%')\n",
    "    \n",
    "plt.show()\n",
    "\n",
    "    \n"
   ]
  },
  {
   "cell_type": "markdown",
   "metadata": {},
   "source": [
    "### Question 3.5\n",
    "##### \"Calculate the proportion of the passengers that survived by travel class and sex. Present your results in a single histogram.\"\n",
    "\n",
    "assumptions: "
   ]
  },
  {
   "cell_type": "code",
   "execution_count": null,
   "metadata": {},
   "outputs": [],
   "source": [
    "class_sex = titanic[['survived', 'pclass', 'sex']]\n",
    "\n",
    "#iterate through every pclass to measure survivals in different categories\n",
    "sWomen, dWomen, sMen, dMen = [0,0,0],[0,0,0],[0,0,0],[0,0,0]\n",
    "for c in class_sex.pclass.unique():\n",
    "    sWomen[c-1] = len(class_sex[class_sex.sex == 'female'][class_sex.survived == 1][class_sex.pclass == c])\n",
    "    dWomen[c-1] = len(class_sex[class_sex.sex == 'female'][class_sex.survived == 0][class_sex.pclass == c])\n",
    "    sMen[c-1] = len(class_sex[class_sex.sex == 'male'][class_sex.survived == 1][class_sex.pclass == c])\n",
    "    dMen[c-1] = len(class_sex[class_sex.sex == 'male'][class_sex.survived == 0][class_sex.pclass == c])\n",
    "\n",
    "\n",
    "N = 3\n",
    "\n",
    "index = np.arange(N)\n",
    "width = 0.3\n",
    "\n",
    "#plot \n",
    "w1 = plt.bar(index, sWomen, width, alpha=0.5, color='r', label='Women survived')\n",
    "w2 = plt.bar(index + width, dWomen, width, alpha=0.8, color='r', label='Women died')\n",
    "\n",
    "#plot men stacked on top of women \n",
    "m1 = plt.bar(index, sMen, width, color='b', alpha=0.5, label='Men survived', bottom= sWomen)\n",
    "m2 = plt.bar(index + width, dMen, width, color='b', alpha=0.8, label='Men died', bottom=dWomen)\n",
    "\n",
    "plt.xlabel('Travel class')\n",
    "plt.ylabel('Poeple at titanic')\n",
    "plt.title('Death/survival rate in the context of travel class and gender')\n",
    "plt.xticks(index + width / 2, ('1st class', '2nd class', '3rd class'))\n",
    "plt.legend()\n",
    "\n",
    "plt.tight_layout()\n",
    "plt.show()\n"
   ]
  },
  {
   "cell_type": "markdown",
   "metadata": {},
   "source": [
    "### Question 3.6\n",
    "##### \"Create 2 equally populated age categories and calculate survival proportions by age category, travel class and sex. Present your results in a DataFrame with unique index.\"\n",
    "\n",
    "assumptions: \n",
    "1. By \"proportions\" I assume it is a likelyhood-percentage of surviving\n",
    "2. Create 2 equally populated age categories I will find the median and round up from the median to nearest hole year difference before dividing."
   ]
  },
  {
   "cell_type": "code",
   "execution_count": null,
   "metadata": {},
   "outputs": [],
   "source": [
    "#not sure how to get \"age group\" as index..\n",
    "\n",
    "#temporary importing and categorizing\n",
    "titanic = pd.read_excel('Data/titanic.xls')\n",
    "titanic.survived = titanic.survived.astype('category')\n",
    "print(titanic.survived.unique())\n",
    "\n",
    "#Trying to index with pclass -> age group -> sex -> survived or not -> counts -> procentage chance\n",
    "survival = titanic[['pclass', 'age', 'sex', 'survived']]\n",
    "survival = survival.dropna()\n",
    "survival['age group'] = pd.cut(survival.age, bins =[0,int(survival.age.median()),80])\n",
    "sgroup = survival.survived.groupby(survival.survived).count()\n",
    "print(sgroup)\n",
    "multi = survival.set_index(['pclass','age group', 'sex', 'survived'])\n",
    "ggg = multi.groupby(level=['pclass', 'sex', 'survived']).count()\n",
    "print(ggg)\n",
    "\n",
    "survival.__delitem__('age')\n",
    "survival.set_index(['pclass', 'sex', 'survived'], inplace=True)\n",
    "\n",
    "\n",
    "survival\n"
   ]
  },
  {
   "cell_type": "code",
   "execution_count": null,
   "metadata": {
    "collapsed": true
   },
   "outputs": [],
   "source": []
  }
 ],
 "metadata": {
  "kernelspec": {
   "display_name": "Python 3",
   "language": "python",
   "name": "python3"
  },
  "language_info": {
   "codemirror_mode": {
    "name": "ipython",
    "version": 3
   },
   "file_extension": ".py",
   "mimetype": "text/x-python",
   "name": "python",
   "nbconvert_exporter": "python",
   "pygments_lexer": "ipython3",
   "version": "3.6.1"
  }
 },
 "nbformat": 4,
 "nbformat_minor": 2
}
